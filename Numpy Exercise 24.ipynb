{
 "cells": [
  {
   "cell_type": "markdown",
   "id": "17f161eb",
   "metadata": {},
   "source": [
    "**The following array is given:**\n",
    "\n",
    "\n",
    "\n",
    "array([[ 0,  1,  2,  3],\n",
    "       [ 4,  5,  6,  7],\n",
    "       [ 8,  9, 10, 11]])\n",
    "\n",
    "\n",
    "**Using the slice operator, transform this array into the following:**\n",
    "\n",
    "\n",
    "\n",
    "array([[ 8,  9, 10, 11],\n",
    "       [ 4,  5,  6,  7],\n",
    "       [ 0,  1,  2,  3]])\n",
    "\n",
    "\n",
    "**In response, print transformed array to the console.**"
   ]
  },
  {
   "cell_type": "code",
   "execution_count": 1,
   "id": "4f001835",
   "metadata": {},
   "outputs": [],
   "source": [
    "import numpy as np"
   ]
  },
  {
   "cell_type": "code",
   "execution_count": 2,
   "id": "82e3b47c",
   "metadata": {},
   "outputs": [],
   "source": [
    "A = np.arange(12).reshape(-1,4)"
   ]
  },
  {
   "cell_type": "code",
   "execution_count": 3,
   "id": "71952079",
   "metadata": {},
   "outputs": [
    {
     "data": {
      "text/plain": [
       "array([[ 0,  1,  2,  3],\n",
       "       [ 4,  5,  6,  7],\n",
       "       [ 8,  9, 10, 11]])"
      ]
     },
     "execution_count": 3,
     "metadata": {},
     "output_type": "execute_result"
    }
   ],
   "source": [
    "A"
   ]
  },
  {
   "cell_type": "code",
   "execution_count": 7,
   "id": "2784456c",
   "metadata": {},
   "outputs": [
    {
     "name": "stdout",
     "output_type": "stream",
     "text": [
      "[[ 8  9 10 11]\n",
      " [ 4  5  6  7]\n",
      " [ 0  1  2  3]]\n"
     ]
    }
   ],
   "source": [
    "print(A[::-1])"
   ]
  }
 ],
 "metadata": {
  "kernelspec": {
   "display_name": "Python 3 (ipykernel)",
   "language": "python",
   "name": "python3"
  },
  "language_info": {
   "codemirror_mode": {
    "name": "ipython",
    "version": 3
   },
   "file_extension": ".py",
   "mimetype": "text/x-python",
   "name": "python",
   "nbconvert_exporter": "python",
   "pygments_lexer": "ipython3",
   "version": "3.9.12"
  }
 },
 "nbformat": 4,
 "nbformat_minor": 5
}
