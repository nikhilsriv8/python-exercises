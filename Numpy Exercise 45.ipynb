{
 "cells": [
  {
   "cell_type": "markdown",
   "id": "01b7830c",
   "metadata": {},
   "source": [
    "**The following array is given:**\n",
    "\n",
    "\n",
    "\n",
    "A = np.array([[[1, 2, 3], [6, 3, 2]]])\n",
    "\n",
    "\n",
    "**Shape of this array is (1, 2, 3). Remove the unnecessary first dimension and extract (2, 3) array and print it to the console as shown below.**\n",
    "\n",
    "**Expected result:**\n",
    "\n",
    "\n",
    "\n",
    "[[1 2 3]\n",
    " [6 3 2]]"
   ]
  },
  {
   "cell_type": "code",
   "execution_count": 1,
   "id": "27c43fc5",
   "metadata": {},
   "outputs": [],
   "source": [
    "import numpy as np\n",
    "\n",
    "\n",
    "A = np.array([[[1, 2, 3], [6, 3, 2]]])"
   ]
  },
  {
   "cell_type": "code",
   "execution_count": 2,
   "id": "8bbdaa0c",
   "metadata": {},
   "outputs": [
    {
     "name": "stdout",
     "output_type": "stream",
     "text": [
      "[[1 2 3]\n",
      " [6 3 2]]\n"
     ]
    }
   ],
   "source": [
    "print(np.squeeze(A))"
   ]
  }
 ],
 "metadata": {
  "kernelspec": {
   "display_name": "Python 3 (ipykernel)",
   "language": "python",
   "name": "python3"
  },
  "language_info": {
   "codemirror_mode": {
    "name": "ipython",
    "version": 3
   },
   "file_extension": ".py",
   "mimetype": "text/x-python",
   "name": "python",
   "nbconvert_exporter": "python",
   "pygments_lexer": "ipython3",
   "version": "3.9.12"
  }
 },
 "nbformat": 4,
 "nbformat_minor": 5
}
