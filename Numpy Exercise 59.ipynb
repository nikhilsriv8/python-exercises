{
 "cells": [
  {
   "cell_type": "markdown",
   "id": "a37e24b7",
   "metadata": {},
   "source": [
    "**A one-dimensional array v (vector) is given:**\n",
    "\n",
    "\n",
    "\n",
    "v = np.array([3, 4, -2])\n",
    "\n",
    "\n",
    "**Calculate the norm of this vector and print result to the console.**"
   ]
  },
  {
   "cell_type": "code",
   "execution_count": 1,
   "id": "12c8ac91",
   "metadata": {},
   "outputs": [],
   "source": [
    "import numpy as np\n",
    "\n",
    "\n",
    "v = np.array([3, 4, -2])"
   ]
  },
  {
   "cell_type": "code",
   "execution_count": 3,
   "id": "de796d19",
   "metadata": {},
   "outputs": [
    {
     "name": "stdout",
     "output_type": "stream",
     "text": [
      "5.385164807134504\n"
     ]
    }
   ],
   "source": [
    "print(np.linalg.norm(v))"
   ]
  }
 ],
 "metadata": {
  "kernelspec": {
   "display_name": "Python 3 (ipykernel)",
   "language": "python",
   "name": "python3"
  },
  "language_info": {
   "codemirror_mode": {
    "name": "ipython",
    "version": 3
   },
   "file_extension": ".py",
   "mimetype": "text/x-python",
   "name": "python",
   "nbconvert_exporter": "python",
   "pygments_lexer": "ipython3",
   "version": "3.9.12"
  }
 },
 "nbformat": 4,
 "nbformat_minor": 5
}
