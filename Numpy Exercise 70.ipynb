{
 "cells": [
  {
   "cell_type": "markdown",
   "id": "661199bd",
   "metadata": {},
   "source": [
    "**The following arrays are given:**\n",
    "\n",
    "\n",
    "\n",
    "A = np.array([[2, 0], [4, 2], [5, 3], [4, 2]])\n",
    "\n",
    "B = np.array([[4, 0, 2, 1, 1, 0, 2, 9]])\n",
    "\n",
    "\n",
    "**Shapes of these arrays:**\n",
    "\n",
    "A - 4x2\n",
    "\n",
    "B - 1x8\n",
    "\n",
    "**Transform B array to perform the matrix multiplication A x B. Then perform this multiplication and print result to the console.**"
   ]
  },
  {
   "cell_type": "code",
   "execution_count": 1,
   "id": "2518fc12",
   "metadata": {},
   "outputs": [],
   "source": [
    "import numpy as np\n",
    "\n",
    "\n",
    "A = np.array([[2, 0], [4, 2], [5, 3], [4, 2]])\n",
    "B = np.array([[4, 0, 2, 1, 1, 0, 2, 9]])\n"
   ]
  },
  {
   "cell_type": "code",
   "execution_count": 2,
   "id": "65ba81bf",
   "metadata": {},
   "outputs": [],
   "source": [
    "B = B.reshape(2,-1)"
   ]
  },
  {
   "cell_type": "code",
   "execution_count": 3,
   "id": "ec43328d",
   "metadata": {},
   "outputs": [
    {
     "data": {
      "text/plain": [
       "array([[4, 0, 2, 1],\n",
       "       [1, 0, 2, 9]])"
      ]
     },
     "execution_count": 3,
     "metadata": {},
     "output_type": "execute_result"
    }
   ],
   "source": [
    "B"
   ]
  },
  {
   "cell_type": "code",
   "execution_count": 4,
   "id": "4943d9ca",
   "metadata": {},
   "outputs": [
    {
     "data": {
      "text/plain": [
       "array([[ 8,  0,  4,  2],\n",
       "       [18,  0, 12, 22],\n",
       "       [23,  0, 16, 32],\n",
       "       [18,  0, 12, 22]])"
      ]
     },
     "execution_count": 4,
     "metadata": {},
     "output_type": "execute_result"
    }
   ],
   "source": [
    "np.dot(A, B)"
   ]
  },
  {
   "cell_type": "code",
   "execution_count": 5,
   "id": "fbe04b70",
   "metadata": {},
   "outputs": [
    {
     "name": "stdout",
     "output_type": "stream",
     "text": [
      "[[ 8  0  4  2]\n",
      " [18  0 12 22]\n",
      " [23  0 16 32]\n",
      " [18  0 12 22]]\n"
     ]
    }
   ],
   "source": [
    "print(np.dot(A, B))"
   ]
  }
 ],
 "metadata": {
  "kernelspec": {
   "display_name": "Python 3 (ipykernel)",
   "language": "python",
   "name": "python3"
  },
  "language_info": {
   "codemirror_mode": {
    "name": "ipython",
    "version": 3
   },
   "file_extension": ".py",
   "mimetype": "text/x-python",
   "name": "python",
   "nbconvert_exporter": "python",
   "pygments_lexer": "ipython3",
   "version": "3.9.12"
  }
 },
 "nbformat": 4,
 "nbformat_minor": 5
}
