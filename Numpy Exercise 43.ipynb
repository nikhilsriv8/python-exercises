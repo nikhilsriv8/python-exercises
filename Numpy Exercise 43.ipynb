{
 "cells": [
  {
   "cell_type": "markdown",
   "id": "8b1c7b03",
   "metadata": {},
   "source": [
    "**The following array is given:**\n",
    "\n",
    "\n",
    "image = np.random.randint(\n",
    "    low=0, high=256, size=(200, 300, 3), dtype=np.uint8\n",
    ")\n",
    "\n",
    "\n",
    "**Extend this array by one dimension (add a new dimension at the beginning) and assign to image_extended variable. Expected shape of this array is (1, 200, 300, 3).**\n",
    "\n"
   ]
  },
  {
   "cell_type": "code",
   "execution_count": 1,
   "id": "e07f32e7",
   "metadata": {},
   "outputs": [],
   "source": [
    "import numpy as np\n",
    "\n",
    "\n",
    "image = np.random.randint(\n",
    "    low=0, high=256, size=(200, 300, 3), dtype=np.uint8\n",
    ")"
   ]
  },
  {
   "cell_type": "code",
   "execution_count": 6,
   "id": "63bab8d9",
   "metadata": {},
   "outputs": [],
   "source": [
    "image_extended = (np.expand_dims(image, axis=0))"
   ]
  },
  {
   "cell_type": "code",
   "execution_count": 7,
   "id": "dacf5ec1",
   "metadata": {},
   "outputs": [
    {
     "name": "stdout",
     "output_type": "stream",
     "text": [
      "[[[[ 58 243  12]\n",
      "   [217 160 247]\n",
      "   [144 202 202]\n",
      "   ...\n",
      "   [ 50   9  31]\n",
      "   [ 12 162 163]\n",
      "   [157  74   5]]\n",
      "\n",
      "  [[ 52  60 205]\n",
      "   [217  74 172]\n",
      "   [228 189 179]\n",
      "   ...\n",
      "   [ 76 192 140]\n",
      "   [160 228 208]\n",
      "   [ 26 106 127]]\n",
      "\n",
      "  [[177  82  71]\n",
      "   [208 205 214]\n",
      "   [235  36 143]\n",
      "   ...\n",
      "   [  9 254 255]\n",
      "   [218  23  49]\n",
      "   [193 168  59]]\n",
      "\n",
      "  ...\n",
      "\n",
      "  [[ 62 183  55]\n",
      "   [ 67 128 204]\n",
      "   [ 75 202 217]\n",
      "   ...\n",
      "   [163 167  44]\n",
      "   [203 127  88]\n",
      "   [123 116 178]]\n",
      "\n",
      "  [[153 189  68]\n",
      "   [  1  73 103]\n",
      "   [231 201  60]\n",
      "   ...\n",
      "   [173 118  53]\n",
      "   [151  17 106]\n",
      "   [184  73  75]]\n",
      "\n",
      "  [[ 70 186 156]\n",
      "   [133 173   8]\n",
      "   [223  29  92]\n",
      "   ...\n",
      "   [ 11 133 242]\n",
      "   [232 207  33]\n",
      "   [ 12  27  65]]]]\n"
     ]
    }
   ],
   "source": [
    "print(image_extended)"
   ]
  }
 ],
 "metadata": {
  "kernelspec": {
   "display_name": "Python 3 (ipykernel)",
   "language": "python",
   "name": "python3"
  },
  "language_info": {
   "codemirror_mode": {
    "name": "ipython",
    "version": 3
   },
   "file_extension": ".py",
   "mimetype": "text/x-python",
   "name": "python",
   "nbconvert_exporter": "python",
   "pygments_lexer": "ipython3",
   "version": "3.9.12"
  }
 },
 "nbformat": 4,
 "nbformat_minor": 5
}
