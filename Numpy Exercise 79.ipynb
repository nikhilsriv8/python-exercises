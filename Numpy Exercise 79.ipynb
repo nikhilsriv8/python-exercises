{
 "cells": [
  {
   "cell_type": "code",
   "execution_count": 1,
   "id": "85d1bb6b",
   "metadata": {},
   "outputs": [],
   "source": [
    "import numpy as np"
   ]
  },
  {
   "cell_type": "code",
   "execution_count": 2,
   "id": "89df4fff",
   "metadata": {},
   "outputs": [],
   "source": [
    "A = np.arange('2021-01', '2022-01', dtype='datetime64[M]')"
   ]
  },
  {
   "cell_type": "code",
   "execution_count": 3,
   "id": "6f3cb52c",
   "metadata": {},
   "outputs": [
    {
     "data": {
      "text/plain": [
       "array(['2021-01', '2021-02', '2021-03', '2021-04', '2021-05', '2021-06',\n",
       "       '2021-07', '2021-08', '2021-09', '2021-10', '2021-11', '2021-12'],\n",
       "      dtype='datetime64[M]')"
      ]
     },
     "execution_count": 3,
     "metadata": {},
     "output_type": "execute_result"
    }
   ],
   "source": [
    "A"
   ]
  },
  {
   "cell_type": "code",
   "execution_count": 4,
   "id": "f113fb21",
   "metadata": {},
   "outputs": [
    {
     "name": "stdout",
     "output_type": "stream",
     "text": [
      "['2021-01' '2021-02' '2021-03' '2021-04' '2021-05' '2021-06' '2021-07'\n",
      " '2021-08' '2021-09' '2021-10' '2021-11' '2021-12']\n"
     ]
    }
   ],
   "source": [
    "print(A)"
   ]
  },
  {
   "cell_type": "code",
   "execution_count": 8,
   "id": "3edb0b49",
   "metadata": {},
   "outputs": [],
   "source": [
    "A = A.reshape(-1,3)"
   ]
  },
  {
   "cell_type": "code",
   "execution_count": 9,
   "id": "79dba4d3",
   "metadata": {},
   "outputs": [
    {
     "name": "stdout",
     "output_type": "stream",
     "text": [
      "[['2021-01' '2021-02' '2021-03']\n",
      " ['2021-04' '2021-05' '2021-06']\n",
      " ['2021-07' '2021-08' '2021-09']\n",
      " ['2021-10' '2021-11' '2021-12']]\n"
     ]
    }
   ],
   "source": [
    "print(A)"
   ]
  }
 ],
 "metadata": {
  "kernelspec": {
   "display_name": "Python 3 (ipykernel)",
   "language": "python",
   "name": "python3"
  },
  "language_info": {
   "codemirror_mode": {
    "name": "ipython",
    "version": 3
   },
   "file_extension": ".py",
   "mimetype": "text/x-python",
   "name": "python",
   "nbconvert_exporter": "python",
   "pygments_lexer": "ipython3",
   "version": "3.9.12"
  }
 },
 "nbformat": 4,
 "nbformat_minor": 5
}
