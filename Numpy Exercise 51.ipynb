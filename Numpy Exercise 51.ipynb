{
 "cells": [
  {
   "cell_type": "markdown",
   "id": "233a0d12",
   "metadata": {},
   "source": [
    "**The following arrays are given:**\n",
    "\n",
    "\n",
    "\n",
    "A = np.array([[3, 4, 5], [8, 3, 1]])\n",
    "B = np.array([[0, 5, 2], [4, 2, 1]])\n",
    "\n",
    "\n",
    "**Concatenate these arrays.**"
   ]
  },
  {
   "cell_type": "code",
   "execution_count": 1,
   "id": "2ce9384d",
   "metadata": {},
   "outputs": [],
   "source": [
    "import numpy as np\n",
    "\n",
    "\n",
    "A = np.array([[3, 4, 5], [8, 3, 1]])\n",
    "B = np.array([[0, 5, 2], [4, 2, 1]])"
   ]
  },
  {
   "cell_type": "code",
   "execution_count": 3,
   "id": "09cea2cf",
   "metadata": {},
   "outputs": [
    {
     "name": "stdout",
     "output_type": "stream",
     "text": [
      "[[3 4 5]\n",
      " [8 3 1]\n",
      " [0 5 2]\n",
      " [4 2 1]]\n"
     ]
    }
   ],
   "source": [
    "print(np.concatenate((A, B)))"
   ]
  }
 ],
 "metadata": {
  "kernelspec": {
   "display_name": "Python 3 (ipykernel)",
   "language": "python",
   "name": "python3"
  },
  "language_info": {
   "codemirror_mode": {
    "name": "ipython",
    "version": 3
   },
   "file_extension": ".py",
   "mimetype": "text/x-python",
   "name": "python",
   "nbconvert_exporter": "python",
   "pygments_lexer": "ipython3",
   "version": "3.9.12"
  }
 },
 "nbformat": 4,
 "nbformat_minor": 5
}
