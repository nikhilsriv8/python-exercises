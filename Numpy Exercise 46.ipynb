{
 "cells": [
  {
   "cell_type": "markdown",
   "id": "e5327743",
   "metadata": {},
   "source": [
    "**The following array is given:**\n",
    "\n",
    "\n",
    "\n",
    "A = np.array([[0.4], [0.9], [0.5], [0.6]])\n",
    "\n",
    "\n",
    "**Shape of this array is (4, 1). Remove the unnecessary dimension and extract (4, ) array and print result to the console.**"
   ]
  },
  {
   "cell_type": "code",
   "execution_count": 4,
   "id": "c060781c",
   "metadata": {},
   "outputs": [],
   "source": [
    "import numpy as np\n",
    "\n",
    "\n",
    "A = np.array([[0.4], [0.9], [0.5], [0.6]])"
   ]
  },
  {
   "cell_type": "code",
   "execution_count": 5,
   "id": "4693ef1c",
   "metadata": {},
   "outputs": [
    {
     "data": {
      "text/plain": [
       "(4, 1)"
      ]
     },
     "execution_count": 5,
     "metadata": {},
     "output_type": "execute_result"
    }
   ],
   "source": [
    "A.shape"
   ]
  },
  {
   "cell_type": "code",
   "execution_count": 2,
   "id": "7b9a90ed",
   "metadata": {},
   "outputs": [],
   "source": [
    "B = np.squeeze(A)"
   ]
  },
  {
   "cell_type": "code",
   "execution_count": 3,
   "id": "d576f0fa",
   "metadata": {},
   "outputs": [
    {
     "data": {
      "text/plain": [
       "(4,)"
      ]
     },
     "execution_count": 3,
     "metadata": {},
     "output_type": "execute_result"
    }
   ],
   "source": [
    "B.shape"
   ]
  }
 ],
 "metadata": {
  "kernelspec": {
   "display_name": "Python 3 (ipykernel)",
   "language": "python",
   "name": "python3"
  },
  "language_info": {
   "codemirror_mode": {
    "name": "ipython",
    "version": 3
   },
   "file_extension": ".py",
   "mimetype": "text/x-python",
   "name": "python",
   "nbconvert_exporter": "python",
   "pygments_lexer": "ipython3",
   "version": "3.9.12"
  }
 },
 "nbformat": 4,
 "nbformat_minor": 5
}
