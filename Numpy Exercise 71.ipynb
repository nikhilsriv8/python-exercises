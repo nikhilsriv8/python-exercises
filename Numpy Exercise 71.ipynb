{
 "cells": [
  {
   "cell_type": "markdown",
   "id": "83561339",
   "metadata": {},
   "source": [
    "**The following array is given:**\n",
    "\n",
    "\n",
    "\n",
    "A = np.array(\n",
    "    [\n",
    "        ['id', 'price'],\n",
    "        ['001', 14.99],\n",
    "        ['002', 4.99],\n",
    "        ['003', 7.99],\n",
    "        ['004', 2.49],\n",
    "        ['005', 1.49],\n",
    "    ]\n",
    ")\n",
    "\n",
    "\n",
    "**Starting with the second row of this array, randomly shuffle the rows and print result to the console.**\n",
    "\n"
   ]
  },
  {
   "cell_type": "code",
   "execution_count": 8,
   "id": "b2f60819",
   "metadata": {},
   "outputs": [],
   "source": [
    "import numpy as np\n",
    "\n",
    "\n",
    "np.random.seed(42)\n",
    "\n",
    "A = np.array(\n",
    "    [\n",
    "        ['id', 'price'],\n",
    "        ['001', 14.99],\n",
    "        ['002', 4.99],\n",
    "        ['003', 7.99],\n",
    "        ['004', 2.49],\n",
    "        ['005', 1.49],\n",
    "    ]\n",
    ")\n"
   ]
  },
  {
   "cell_type": "code",
   "execution_count": 4,
   "id": "b52a834a",
   "metadata": {},
   "outputs": [],
   "source": [
    "np.random.shuffle(A)"
   ]
  },
  {
   "cell_type": "code",
   "execution_count": 5,
   "id": "46892534",
   "metadata": {},
   "outputs": [
    {
     "name": "stdout",
     "output_type": "stream",
     "text": [
      "[['003' '7.99']\n",
      " ['id' 'price']\n",
      " ['002' '4.99']\n",
      " ['005' '1.49']\n",
      " ['004' '2.49']\n",
      " ['001' '14.99']]\n"
     ]
    }
   ],
   "source": [
    "print(A)"
   ]
  },
  {
   "cell_type": "code",
   "execution_count": 9,
   "id": "b29de11f",
   "metadata": {},
   "outputs": [],
   "source": [
    "np.random.shuffle(A[1:])"
   ]
  },
  {
   "cell_type": "code",
   "execution_count": 10,
   "id": "593b9dbb",
   "metadata": {},
   "outputs": [
    {
     "name": "stdout",
     "output_type": "stream",
     "text": [
      "[['id' 'price']\n",
      " ['002' '4.99']\n",
      " ['005' '1.49']\n",
      " ['003' '7.99']\n",
      " ['001' '14.99']\n",
      " ['004' '2.49']]\n"
     ]
    }
   ],
   "source": [
    "print(A)"
   ]
  }
 ],
 "metadata": {
  "kernelspec": {
   "display_name": "Python 3 (ipykernel)",
   "language": "python",
   "name": "python3"
  },
  "language_info": {
   "codemirror_mode": {
    "name": "ipython",
    "version": 3
   },
   "file_extension": ".py",
   "mimetype": "text/x-python",
   "name": "python",
   "nbconvert_exporter": "python",
   "pygments_lexer": "ipython3",
   "version": "3.9.12"
  }
 },
 "nbformat": 4,
 "nbformat_minor": 5
}
