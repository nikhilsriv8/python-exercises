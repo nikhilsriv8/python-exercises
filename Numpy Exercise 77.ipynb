{
 "cells": [
  {
   "cell_type": "markdown",
   "id": "120f4dde",
   "metadata": {},
   "source": [
    "**The following array is given:**\n",
    "\n",
    "\n",
    "\n",
    "A = np.array([[-4, 3, 0, 1, -5], [6, -4, -2, 1, 3]])\n",
    "\n",
    "\n",
    "**Use the sign function for this array.**"
   ]
  },
  {
   "cell_type": "code",
   "execution_count": 1,
   "id": "7901b8c0",
   "metadata": {},
   "outputs": [],
   "source": [
    "import numpy as np\n",
    "\n",
    "\n",
    "A = np.array([[-4, 3, 0, 1, -5], [6, -4, -2, 1, 3]])"
   ]
  },
  {
   "cell_type": "code",
   "execution_count": 2,
   "id": "d820e667",
   "metadata": {},
   "outputs": [
    {
     "data": {
      "text/plain": [
       "array([[-1,  1,  0,  1, -1],\n",
       "       [ 1, -1, -1,  1,  1]])"
      ]
     },
     "execution_count": 2,
     "metadata": {},
     "output_type": "execute_result"
    }
   ],
   "source": [
    "np.sign(A)"
   ]
  },
  {
   "cell_type": "code",
   "execution_count": 3,
   "id": "66ba7816",
   "metadata": {},
   "outputs": [
    {
     "name": "stdout",
     "output_type": "stream",
     "text": [
      "[[-1  1  0  1 -1]\n",
      " [ 1 -1 -1  1  1]]\n"
     ]
    }
   ],
   "source": [
    "print(np.sign(A))"
   ]
  }
 ],
 "metadata": {
  "kernelspec": {
   "display_name": "Python 3 (ipykernel)",
   "language": "python",
   "name": "python3"
  },
  "language_info": {
   "codemirror_mode": {
    "name": "ipython",
    "version": 3
   },
   "file_extension": ".py",
   "mimetype": "text/x-python",
   "name": "python",
   "nbconvert_exporter": "python",
   "pygments_lexer": "ipython3",
   "version": "3.9.12"
  }
 },
 "nbformat": 4,
 "nbformat_minor": 5
}
