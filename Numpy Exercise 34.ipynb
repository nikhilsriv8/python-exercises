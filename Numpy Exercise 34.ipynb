{
 "cells": [
  {
   "cell_type": "markdown",
   "id": "eafc8c9e",
   "metadata": {},
   "source": [
    "**Present the following two-dimensional array as a flattened one-dimensional array and print result to the console.**\n",
    "\n",
    "\n",
    "\n",
    "A = np.array(\n",
    "    [\n",
    "        [4.99, 3.49, 9.99],\n",
    "        [1.99, 9.99, 14.99],\n",
    "        [14.99, 2.39, 7.29],\n",
    "    ]\n",
    ")\n"
   ]
  },
  {
   "cell_type": "code",
   "execution_count": 1,
   "id": "4035be08",
   "metadata": {},
   "outputs": [],
   "source": [
    "import numpy as np\n",
    "\n",
    "\n",
    "A = np.array(\n",
    "    [\n",
    "        [4.99, 3.49, 9.99],\n",
    "        [1.99, 9.99, 14.99],\n",
    "        [14.99, 2.39, 7.29],\n",
    "    ]\n",
    ")\n"
   ]
  },
  {
   "cell_type": "code",
   "execution_count": 2,
   "id": "7f968a48",
   "metadata": {},
   "outputs": [
    {
     "data": {
      "text/plain": [
       "array([[ 4.99,  3.49,  9.99],\n",
       "       [ 1.99,  9.99, 14.99],\n",
       "       [14.99,  2.39,  7.29]])"
      ]
     },
     "execution_count": 2,
     "metadata": {},
     "output_type": "execute_result"
    }
   ],
   "source": [
    "A"
   ]
  },
  {
   "cell_type": "code",
   "execution_count": 3,
   "id": "bfbdf1cd",
   "metadata": {},
   "outputs": [
    {
     "data": {
      "text/plain": [
       "array([ 4.99,  3.49,  9.99,  1.99,  9.99, 14.99, 14.99,  2.39,  7.29])"
      ]
     },
     "execution_count": 3,
     "metadata": {},
     "output_type": "execute_result"
    }
   ],
   "source": [
    "np.ravel(A)"
   ]
  },
  {
   "cell_type": "code",
   "execution_count": 4,
   "id": "8e5c481d",
   "metadata": {},
   "outputs": [
    {
     "name": "stdout",
     "output_type": "stream",
     "text": [
      "[ 4.99  3.49  9.99  1.99  9.99 14.99 14.99  2.39  7.29]\n"
     ]
    }
   ],
   "source": [
    "print(np.ravel(A))"
   ]
  }
 ],
 "metadata": {
  "kernelspec": {
   "display_name": "Python 3 (ipykernel)",
   "language": "python",
   "name": "python3"
  },
  "language_info": {
   "codemirror_mode": {
    "name": "ipython",
    "version": 3
   },
   "file_extension": ".py",
   "mimetype": "text/x-python",
   "name": "python",
   "nbconvert_exporter": "python",
   "pygments_lexer": "ipython3",
   "version": "3.9.12"
  }
 },
 "nbformat": 4,
 "nbformat_minor": 5
}
