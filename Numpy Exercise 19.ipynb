{
 "cells": [
  {
   "cell_type": "markdown",
   "id": "66551ae8",
   "metadata": {},
   "source": [
    "**Using Numpy create a one-dimensional array (vector) containing the possible result from the Big Lotto game. Set the random seed to 42. Print result to the console.**"
   ]
  },
  {
   "cell_type": "code",
   "execution_count": 1,
   "id": "091b5fa8",
   "metadata": {},
   "outputs": [],
   "source": [
    "import numpy as np"
   ]
  },
  {
   "cell_type": "code",
   "execution_count": 6,
   "id": "8f7d97ce",
   "metadata": {},
   "outputs": [
    {
     "data": {
      "text/plain": [
       "array([ 0.24196227, -1.91328024, -1.72491783, -0.56228753, -1.01283112,\n",
       "        0.31424733])"
      ]
     },
     "execution_count": 6,
     "metadata": {},
     "output_type": "execute_result"
    }
   ],
   "source": [
    "np.random.randn(6)"
   ]
  },
  {
   "cell_type": "code",
   "execution_count": 10,
   "id": "961cac6b",
   "metadata": {},
   "outputs": [
    {
     "data": {
      "text/plain": [
       "array([ 3,  1, 27, 23, 13, 38])"
      ]
     },
     "execution_count": 10,
     "metadata": {},
     "output_type": "execute_result"
    }
   ],
   "source": [
    "np.random.choice(range(1,50),size=6, replace=False)"
   ]
  },
  {
   "cell_type": "code",
   "execution_count": 11,
   "id": "eb3b7e6e",
   "metadata": {},
   "outputs": [],
   "source": [
    "np.random.seed(42)"
   ]
  },
  {
   "cell_type": "code",
   "execution_count": 12,
   "id": "c66d73b5",
   "metadata": {},
   "outputs": [
    {
     "name": "stdout",
     "output_type": "stream",
     "text": [
      "[14 46 48 45 18 28]\n"
     ]
    }
   ],
   "source": [
    "print(np.random.choice(range(1,50),size=6, replace=False))"
   ]
  }
 ],
 "metadata": {
  "kernelspec": {
   "display_name": "Python 3 (ipykernel)",
   "language": "python",
   "name": "python3"
  },
  "language_info": {
   "codemirror_mode": {
    "name": "ipython",
    "version": 3
   },
   "file_extension": ".py",
   "mimetype": "text/x-python",
   "name": "python",
   "nbconvert_exporter": "python",
   "pygments_lexer": "ipython3",
   "version": "3.9.12"
  }
 },
 "nbformat": 4,
 "nbformat_minor": 5
}
