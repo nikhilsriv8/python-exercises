{
 "cells": [
  {
   "cell_type": "markdown",
   "id": "d3102c42",
   "metadata": {},
   "source": [
    "**Using Numpy create a three-dimensional array called image with shape (200, 300, 3) filled with random values from 0 to 255 (inclusive) and data type np.uint8. Set random seed to 42.**\n",
    "\n",
    "**In response, print array to the console.**"
   ]
  },
  {
   "cell_type": "code",
   "execution_count": 5,
   "id": "67a9758c",
   "metadata": {},
   "outputs": [],
   "source": [
    "import numpy as np\n",
    "\n",
    "\n",
    "np.random.seed(42)"
   ]
  },
  {
   "cell_type": "code",
   "execution_count": 9,
   "id": "925da355",
   "metadata": {},
   "outputs": [],
   "source": [
    "image = np.random.randint(low=0, high=256, size=(200,300,3), dtype=np.uint8)"
   ]
  },
  {
   "cell_type": "code",
   "execution_count": 10,
   "id": "43536b70",
   "metadata": {},
   "outputs": [
    {
     "data": {
      "text/plain": [
       "array([[[142, 229, 254],\n",
       "        [254, 165, 235],\n",
       "        [ 44, 141,  49],\n",
       "        ...,\n",
       "        [188, 228, 235],\n",
       "        [150,  92,  69],\n",
       "        [141,  53, 255]],\n",
       "\n",
       "       [[157,  79, 123],\n",
       "        [148, 231, 178],\n",
       "        [211, 196, 142],\n",
       "        ...,\n",
       "        [228, 164,  10],\n",
       "        [ 73, 167, 231],\n",
       "        [137, 138, 113]],\n",
       "\n",
       "       [[212, 224, 151],\n",
       "        [120, 156,  39],\n",
       "        [255, 152, 253],\n",
       "        ...,\n",
       "        [127, 248, 216],\n",
       "        [190, 211,  25],\n",
       "        [106, 200, 169]],\n",
       "\n",
       "       ...,\n",
       "\n",
       "       [[  2, 126, 153],\n",
       "        [ 71, 203, 115],\n",
       "        [119,  81, 204],\n",
       "        ...,\n",
       "        [164,  24,  85],\n",
       "        [ 69, 250, 148],\n",
       "        [ 33, 245,  14]],\n",
       "\n",
       "       [[121, 248, 201],\n",
       "        [ 77, 210, 150],\n",
       "        [191, 196,  87],\n",
       "        ...,\n",
       "        [165,  92,  63],\n",
       "        [231, 207,  30],\n",
       "        [ 38, 215, 132]],\n",
       "\n",
       "       [[236,  90, 107],\n",
       "        [148, 173,  25],\n",
       "        [ 45,  62, 154],\n",
       "        ...,\n",
       "        [ 14, 169,  18],\n",
       "        [ 82,  87, 224],\n",
       "        [220, 117,  62]]], dtype=uint8)"
      ]
     },
     "execution_count": 10,
     "metadata": {},
     "output_type": "execute_result"
    }
   ],
   "source": [
    "image"
   ]
  },
  {
   "cell_type": "code",
   "execution_count": 11,
   "id": "a8d6a041",
   "metadata": {},
   "outputs": [
    {
     "name": "stdout",
     "output_type": "stream",
     "text": [
      "[[[142 229 254]\n",
      "  [254 165 235]\n",
      "  [ 44 141  49]\n",
      "  ...\n",
      "  [188 228 235]\n",
      "  [150  92  69]\n",
      "  [141  53 255]]\n",
      "\n",
      " [[157  79 123]\n",
      "  [148 231 178]\n",
      "  [211 196 142]\n",
      "  ...\n",
      "  [228 164  10]\n",
      "  [ 73 167 231]\n",
      "  [137 138 113]]\n",
      "\n",
      " [[212 224 151]\n",
      "  [120 156  39]\n",
      "  [255 152 253]\n",
      "  ...\n",
      "  [127 248 216]\n",
      "  [190 211  25]\n",
      "  [106 200 169]]\n",
      "\n",
      " ...\n",
      "\n",
      " [[  2 126 153]\n",
      "  [ 71 203 115]\n",
      "  [119  81 204]\n",
      "  ...\n",
      "  [164  24  85]\n",
      "  [ 69 250 148]\n",
      "  [ 33 245  14]]\n",
      "\n",
      " [[121 248 201]\n",
      "  [ 77 210 150]\n",
      "  [191 196  87]\n",
      "  ...\n",
      "  [165  92  63]\n",
      "  [231 207  30]\n",
      "  [ 38 215 132]]\n",
      "\n",
      " [[236  90 107]\n",
      "  [148 173  25]\n",
      "  [ 45  62 154]\n",
      "  ...\n",
      "  [ 14 169  18]\n",
      "  [ 82  87 224]\n",
      "  [220 117  62]]]\n"
     ]
    }
   ],
   "source": [
    "print(image)"
   ]
  }
 ],
 "metadata": {
  "kernelspec": {
   "display_name": "Python 3 (ipykernel)",
   "language": "python",
   "name": "python3"
  },
  "language_info": {
   "codemirror_mode": {
    "name": "ipython",
    "version": 3
   },
   "file_extension": ".py",
   "mimetype": "text/x-python",
   "name": "python",
   "nbconvert_exporter": "python",
   "pygments_lexer": "ipython3",
   "version": "3.9.12"
  }
 },
 "nbformat": 4,
 "nbformat_minor": 5
}
