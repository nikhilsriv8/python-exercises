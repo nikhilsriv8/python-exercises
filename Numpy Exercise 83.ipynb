{
 "cells": [
  {
   "cell_type": "markdown",
   "id": "e483b57f",
   "metadata": {},
   "source": [
    "**The following array is given:**\n",
    "\n",
    "\n",
    "\n",
    "A = np.array(['1', '2', '3'], dtype=np.str)\n",
    "\n",
    "\n",
    "**Add '000' (3 zeros) at the beginning of each element of this array as shown below and print result to the console.**"
   ]
  },
  {
   "cell_type": "code",
   "execution_count": 1,
   "id": "460a9a66",
   "metadata": {},
   "outputs": [],
   "source": [
    "import numpy as np\n",
    "\n",
    "A = np.array(['1', '2', '3'], dtype=np.str_)"
   ]
  },
  {
   "cell_type": "code",
   "execution_count": 3,
   "id": "dae2c9e9",
   "metadata": {},
   "outputs": [
    {
     "data": {
      "text/plain": [
       "array(['0001', '0002', '0003'], dtype='<U4')"
      ]
     },
     "execution_count": 3,
     "metadata": {},
     "output_type": "execute_result"
    }
   ],
   "source": [
    "np.char.add(['000'], A)"
   ]
  },
  {
   "cell_type": "code",
   "execution_count": 4,
   "id": "ee896ead",
   "metadata": {},
   "outputs": [
    {
     "name": "stdout",
     "output_type": "stream",
     "text": [
      "['0001' '0002' '0003']\n"
     ]
    }
   ],
   "source": [
    "print(np.char.add(['000'], A))"
   ]
  },
  {
   "cell_type": "code",
   "execution_count": 9,
   "id": "6d9fa56f",
   "metadata": {},
   "outputs": [
    {
     "data": {
      "text/plain": [
       "array(['0001', '0002', '0003'], dtype='<U4')"
      ]
     },
     "execution_count": 9,
     "metadata": {},
     "output_type": "execute_result"
    }
   ],
   "source": [
    "np.char.rjust(A, width=4, fillchar='0')"
   ]
  },
  {
   "cell_type": "code",
   "execution_count": 10,
   "id": "f331363e",
   "metadata": {},
   "outputs": [
    {
     "name": "stdout",
     "output_type": "stream",
     "text": [
      "['0001' '0002' '0003']\n"
     ]
    }
   ],
   "source": [
    "print(np.char.rjust(A, width=4, fillchar='0'))"
   ]
  },
  {
   "cell_type": "code",
   "execution_count": 12,
   "id": "7110bc57",
   "metadata": {},
   "outputs": [
    {
     "data": {
      "text/plain": [
       "array(['0001', '0002', '0003'], dtype='<U4')"
      ]
     },
     "execution_count": 12,
     "metadata": {},
     "output_type": "execute_result"
    }
   ],
   "source": [
    "np.char.zfill(A, width=4)"
   ]
  },
  {
   "cell_type": "code",
   "execution_count": 13,
   "id": "4d86a116",
   "metadata": {},
   "outputs": [
    {
     "name": "stdout",
     "output_type": "stream",
     "text": [
      "['0001' '0002' '0003']\n"
     ]
    }
   ],
   "source": [
    "print(np.char.zfill(A, width=4))"
   ]
  }
 ],
 "metadata": {
  "kernelspec": {
   "display_name": "Python 3 (ipykernel)",
   "language": "python",
   "name": "python3"
  },
  "language_info": {
   "codemirror_mode": {
    "name": "ipython",
    "version": 3
   },
   "file_extension": ".py",
   "mimetype": "text/x-python",
   "name": "python",
   "nbconvert_exporter": "python",
   "pygments_lexer": "ipython3",
   "version": "3.9.12"
  }
 },
 "nbformat": 4,
 "nbformat_minor": 5
}
