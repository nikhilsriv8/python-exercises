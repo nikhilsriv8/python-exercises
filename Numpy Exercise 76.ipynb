{
 "cells": [
  {
   "cell_type": "code",
   "execution_count": 1,
   "id": "caa6059f",
   "metadata": {},
   "outputs": [],
   "source": [
    "import numpy as np"
   ]
  },
  {
   "cell_type": "code",
   "execution_count": 4,
   "id": "d85dd973",
   "metadata": {},
   "outputs": [],
   "source": [
    "W = np.array([0, 4, 5, 1])\n",
    "Q = np.array([2, 4, -5, 1])"
   ]
  },
  {
   "cell_type": "code",
   "execution_count": 5,
   "id": "3fe457c6",
   "metadata": {},
   "outputs": [
    {
     "data": {
      "text/plain": [
       "array([2, 8, 0, 2])"
      ]
     },
     "execution_count": 5,
     "metadata": {},
     "output_type": "execute_result"
    }
   ],
   "source": [
    "W + Q"
   ]
  },
  {
   "cell_type": "code",
   "execution_count": 6,
   "id": "fa9def36",
   "metadata": {},
   "outputs": [
    {
     "data": {
      "text/plain": [
       "array([-2,  0, 10,  0])"
      ]
     },
     "execution_count": 6,
     "metadata": {},
     "output_type": "execute_result"
    }
   ],
   "source": [
    "W - Q"
   ]
  },
  {
   "cell_type": "code",
   "execution_count": 7,
   "id": "edd25c33",
   "metadata": {},
   "outputs": [
    {
     "data": {
      "text/plain": [
       "array([  0,  16, -25,   1])"
      ]
     },
     "execution_count": 7,
     "metadata": {},
     "output_type": "execute_result"
    }
   ],
   "source": [
    "W*Q"
   ]
  },
  {
   "cell_type": "code",
   "execution_count": 8,
   "id": "23e24b05",
   "metadata": {},
   "outputs": [
    {
     "data": {
      "text/plain": [
       "array([ 4, 12, -5,  3])"
      ]
     },
     "execution_count": 8,
     "metadata": {},
     "output_type": "execute_result"
    }
   ],
   "source": [
    "W + 2*Q"
   ]
  },
  {
   "cell_type": "code",
   "execution_count": 10,
   "id": "d344eec7",
   "metadata": {},
   "outputs": [
    {
     "name": "stdout",
     "output_type": "stream",
     "text": [
      "[2 8 0 2]\n",
      "[-2  0 10  0]\n",
      "[  0  16 -25   1]\n",
      "[ 4 12 -5  3]\n"
     ]
    }
   ],
   "source": [
    "print(W+Q)\n",
    "print(W-Q)\n",
    "print(W*Q)\n",
    "print(W+2*Q)"
   ]
  },
  {
   "cell_type": "code",
   "execution_count": 11,
   "id": "0037df59",
   "metadata": {},
   "outputs": [
    {
     "name": "stdout",
     "output_type": "stream",
     "text": [
      "[2 8 0 2]\n",
      "[-2  0 10  0]\n",
      "[  8  26   2 -17   0   1]\n",
      "[ 4 12 -5  3]\n"
     ]
    }
   ],
   "source": [
    "print(np.polyadd(W,Q))\n",
    "print(np.polysub(W,Q))\n",
    "print(np.polymul(W,Q))\n",
    "print(np.polyadd(W, 2*Q))"
   ]
  }
 ],
 "metadata": {
  "kernelspec": {
   "display_name": "Python 3 (ipykernel)",
   "language": "python",
   "name": "python3"
  },
  "language_info": {
   "codemirror_mode": {
    "name": "ipython",
    "version": 3
   },
   "file_extension": ".py",
   "mimetype": "text/x-python",
   "name": "python",
   "nbconvert_exporter": "python",
   "pygments_lexer": "ipython3",
   "version": "3.9.12"
  }
 },
 "nbformat": 4,
 "nbformat_minor": 5
}
