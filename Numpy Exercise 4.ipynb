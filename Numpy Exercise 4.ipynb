{
 "cells": [
  {
   "cell_type": "markdown",
   "id": "6ba9e0d1",
   "metadata": {},
   "source": [
    "**Check if any element of the following arrays returns the logical value True along the axis with index 0**"
   ]
  },
  {
   "cell_type": "code",
   "execution_count": 1,
   "id": "1bd2eabe",
   "metadata": {},
   "outputs": [],
   "source": [
    "import numpy as np"
   ]
  },
  {
   "cell_type": "code",
   "execution_count": 2,
   "id": "73f114d8",
   "metadata": {},
   "outputs": [],
   "source": [
    "A = np.array([[0, 0, 0],\n",
    "              [0, 0, 0]])\n",
    " \n",
    "B = np.array([[0, 0, 0],\n",
    "              [0, 1, 0]])\n",
    " \n",
    "C = np.array([[False, False, False],\n",
    "              [True, False, False]])\n",
    " \n",
    "D = np.array([[0.1, 0.0]])"
   ]
  },
  {
   "cell_type": "code",
   "execution_count": 3,
   "id": "66e21637",
   "metadata": {},
   "outputs": [
    {
     "data": {
      "text/plain": [
       "array([False, False, False])"
      ]
     },
     "execution_count": 3,
     "metadata": {},
     "output_type": "execute_result"
    }
   ],
   "source": [
    "np.any(A, axis=0)"
   ]
  },
  {
   "cell_type": "code",
   "execution_count": 4,
   "id": "dd1e5450",
   "metadata": {},
   "outputs": [
    {
     "name": "stdout",
     "output_type": "stream",
     "text": [
      "A: [False False False]\n",
      "B: [False  True False]\n",
      "C: [ True False False]\n",
      "D: [ True False]\n"
     ]
    }
   ],
   "source": [
    "for name, array in zip(list('ABCD'), [A,B,C,D]):\n",
    "    print(f'{name}: {np.any(array,axis=0)}')"
   ]
  }
 ],
 "metadata": {
  "kernelspec": {
   "display_name": "Python 3 (ipykernel)",
   "language": "python",
   "name": "python3"
  },
  "language_info": {
   "codemirror_mode": {
    "name": "ipython",
    "version": 3
   },
   "file_extension": ".py",
   "mimetype": "text/x-python",
   "name": "python",
   "nbconvert_exporter": "python",
   "pygments_lexer": "ipython3",
   "version": "3.9.12"
  }
 },
 "nbformat": 4,
 "nbformat_minor": 5
}
