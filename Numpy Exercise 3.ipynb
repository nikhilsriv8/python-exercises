{
 "cells": [
  {
   "cell_type": "markdown",
   "id": "8555e200",
   "metadata": {},
   "source": [
    "**Check if any element of the following arrays returns the logical value True**"
   ]
  },
  {
   "cell_type": "code",
   "execution_count": 2,
   "id": "ce062ec3",
   "metadata": {},
   "outputs": [],
   "source": [
    "import numpy as np"
   ]
  },
  {
   "cell_type": "code",
   "execution_count": 3,
   "id": "8860a234",
   "metadata": {},
   "outputs": [],
   "source": [
    "A = np.array([[0, 0, 0],\n",
    "              [0, 0, 0]])\n",
    " \n",
    "B = np.array([[0, 0, 0],\n",
    "              [0, 1, 0]])\n",
    " \n",
    "C = np.array([[False, False, False],\n",
    "              [True, False, False]])\n",
    " \n",
    "D = np.array([[0.1, 0.0]])\n"
   ]
  },
  {
   "cell_type": "code",
   "execution_count": 4,
   "id": "15d2e344",
   "metadata": {},
   "outputs": [
    {
     "data": {
      "text/plain": [
       "False"
      ]
     },
     "execution_count": 4,
     "metadata": {},
     "output_type": "execute_result"
    }
   ],
   "source": [
    "np.any(A)"
   ]
  },
  {
   "cell_type": "code",
   "execution_count": 5,
   "id": "d45b4c19",
   "metadata": {},
   "outputs": [
    {
     "data": {
      "text/plain": [
       "True"
      ]
     },
     "execution_count": 5,
     "metadata": {},
     "output_type": "execute_result"
    }
   ],
   "source": [
    "np.any(B)"
   ]
  },
  {
   "cell_type": "code",
   "execution_count": 6,
   "id": "cbd65001",
   "metadata": {},
   "outputs": [
    {
     "data": {
      "text/plain": [
       "True"
      ]
     },
     "execution_count": 6,
     "metadata": {},
     "output_type": "execute_result"
    }
   ],
   "source": [
    "np.any(C)"
   ]
  },
  {
   "cell_type": "code",
   "execution_count": 7,
   "id": "06c1639e",
   "metadata": {},
   "outputs": [
    {
     "data": {
      "text/plain": [
       "True"
      ]
     },
     "execution_count": 7,
     "metadata": {},
     "output_type": "execute_result"
    }
   ],
   "source": [
    "np.any(D)"
   ]
  },
  {
   "cell_type": "code",
   "execution_count": 10,
   "id": "0864cf45",
   "metadata": {},
   "outputs": [
    {
     "name": "stdout",
     "output_type": "stream",
     "text": [
      "A: False\n",
      "B: True\n",
      "C: True\n",
      "D: True\n"
     ]
    }
   ],
   "source": [
    "for name, array in zip(list('ABCD'),[A,B,C,D]):\n",
    "    print(f'{name}: {np.any(array)}')"
   ]
  }
 ],
 "metadata": {
  "kernelspec": {
   "display_name": "Python 3 (ipykernel)",
   "language": "python",
   "name": "python3"
  },
  "language_info": {
   "codemirror_mode": {
    "name": "ipython",
    "version": 3
   },
   "file_extension": ".py",
   "mimetype": "text/x-python",
   "name": "python",
   "nbconvert_exporter": "python",
   "pygments_lexer": "ipython3",
   "version": "3.9.12"
  }
 },
 "nbformat": 4,
 "nbformat_minor": 5
}
