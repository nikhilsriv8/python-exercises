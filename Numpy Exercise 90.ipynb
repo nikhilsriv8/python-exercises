{
 "cells": [
  {
   "cell_type": "code",
   "execution_count": 1,
   "id": "0acfd1d7",
   "metadata": {},
   "outputs": [],
   "source": [
    "import numpy as np\n",
    "\n",
    "np.set_printoptions(linewidth=150)\n",
    "stocks_startswith_P = np.array(\n",
    "    [\n",
    "        [\n",
    "            'PEKAO',\n",
    "            'PLPEKAO00016',\n",
    "            '176379000',\n",
    "            '9619710660',\n",
    "            '6.185',\n",
    "            '5.27',\n",
    "            '9',\n",
    "        ],\n",
    "        [\n",
    "            'PGE',\n",
    "            'PLPGER000010',\n",
    "            '796776000',\n",
    "            '3561588720',\n",
    "            '2.290',\n",
    "            '2.88',\n",
    "            '18',\n",
    "        ],\n",
    "        [\n",
    "            'PGNIG',\n",
    "            'PLPGNIG00014',\n",
    "            '1624608000',\n",
    "            '6072784704',\n",
    "            '3.905',\n",
    "            '1.56',\n",
    "            '12',\n",
    "        ],\n",
    "        [\n",
    "            'PKNORLEN',\n",
    "            'PLPKN0000018',\n",
    "            '289049000',\n",
    "            '17701360760',\n",
    "            '11.382',\n",
    "            '12.44',\n",
    "            '8',\n",
    "        ],\n",
    "        [\n",
    "            'PKOBP',\n",
    "            'PLPKO0000016',\n",
    "            '857593000',\n",
    "            '18807014490',\n",
    "            '12.093',\n",
    "            '10.49',\n",
    "            '9',\n",
    "        ],\n",
    "        [\n",
    "            'PLAY',\n",
    "            'LU1642887738',\n",
    "            '114151000',\n",
    "            '3696209380',\n",
    "            '2.377',\n",
    "            '1.47',\n",
    "            '16',\n",
    "        ],\n",
    "        [\n",
    "            'PZU',\n",
    "            'PLPZU0000011',\n",
    "            '568305000',\n",
    "            '17515160100',\n",
    "            '11.262',\n",
    "            '6.64',\n",
    "            '6',\n",
    "        ],\n",
    "    ],\n",
    "    dtype='<U12',\n",
    ")\n"
   ]
  },
  {
   "cell_type": "code",
   "execution_count": 2,
   "id": "6760356e",
   "metadata": {},
   "outputs": [
    {
     "name": "stdout",
     "output_type": "stream",
     "text": [
      "49.49\n"
     ]
    }
   ],
   "source": [
    "print(np.round(stocks_startswith_P[:, 4].astype(float).sum(), 2))"
   ]
  }
 ],
 "metadata": {
  "kernelspec": {
   "display_name": "Python 3 (ipykernel)",
   "language": "python",
   "name": "python3"
  },
  "language_info": {
   "codemirror_mode": {
    "name": "ipython",
    "version": 3
   },
   "file_extension": ".py",
   "mimetype": "text/x-python",
   "name": "python",
   "nbconvert_exporter": "python",
   "pygments_lexer": "ipython3",
   "version": "3.9.12"
  }
 },
 "nbformat": 4,
 "nbformat_minor": 5
}
