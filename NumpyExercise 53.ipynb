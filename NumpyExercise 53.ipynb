{
 "cells": [
  {
   "cell_type": "markdown",
   "id": "c0a73e36",
   "metadata": {},
   "source": [
    "**The following three one-dimensional arrays are given:**\n",
    "\n",
    "\n",
    "\n",
    "feature1 = np.array([1.6, 0.9, 2.2])\n",
    "feature2 = np.array([0.4, 1.3, 3.2])\n",
    "feature3 = np.array([1.4, 0.3, 1.2])\n",
    "\n",
    "\n",
    "**Transform each of these arrays into a column and concatenate them into one array**"
   ]
  },
  {
   "cell_type": "code",
   "execution_count": 1,
   "id": "948522ea",
   "metadata": {},
   "outputs": [],
   "source": [
    "import numpy as np\n",
    "\n",
    "\n",
    "feature1 = np.array([1.6, 0.9, 2.2])\n",
    "feature2 = np.array([0.4, 1.3, 3.2])\n",
    "feature3 = np.array([1.4, 0.3, 1.2])"
   ]
  },
  {
   "cell_type": "code",
   "execution_count": 4,
   "id": "2250b944",
   "metadata": {},
   "outputs": [],
   "source": [
    "feature1 = np.column_stack(feature1)"
   ]
  },
  {
   "cell_type": "code",
   "execution_count": 5,
   "id": "d9494731",
   "metadata": {},
   "outputs": [
    {
     "data": {
      "text/plain": [
       "array([[1.6, 0.9, 2.2]])"
      ]
     },
     "execution_count": 5,
     "metadata": {},
     "output_type": "execute_result"
    }
   ],
   "source": [
    "feature1"
   ]
  },
  {
   "cell_type": "code",
   "execution_count": 6,
   "id": "cb1d0b4b",
   "metadata": {},
   "outputs": [],
   "source": [
    "feature2 = np.column_stack(feature2)"
   ]
  },
  {
   "cell_type": "code",
   "execution_count": 7,
   "id": "7a9799e3",
   "metadata": {},
   "outputs": [],
   "source": [
    "feature3 = np.column_stack(feature3)"
   ]
  },
  {
   "cell_type": "code",
   "execution_count": 8,
   "id": "8c6a9f57",
   "metadata": {},
   "outputs": [],
   "source": [
    "feature = np.concatenate((feature1, feature2, feature3), axis=0)"
   ]
  },
  {
   "cell_type": "code",
   "execution_count": 9,
   "id": "0f19b2ac",
   "metadata": {},
   "outputs": [
    {
     "name": "stdout",
     "output_type": "stream",
     "text": [
      "[[1.6 0.9 2.2]\n",
      " [0.4 1.3 3.2]\n",
      " [1.4 0.3 1.2]]\n"
     ]
    }
   ],
   "source": [
    "print(feature)"
   ]
  },
  {
   "cell_type": "code",
   "execution_count": 10,
   "id": "9883b4db",
   "metadata": {},
   "outputs": [],
   "source": [
    "features = np.column_stack(feature)"
   ]
  },
  {
   "cell_type": "code",
   "execution_count": 11,
   "id": "2cf53f2b",
   "metadata": {},
   "outputs": [
    {
     "data": {
      "text/plain": [
       "array([[1.6, 0.4, 1.4],\n",
       "       [0.9, 1.3, 0.3],\n",
       "       [2.2, 3.2, 1.2]])"
      ]
     },
     "execution_count": 11,
     "metadata": {},
     "output_type": "execute_result"
    }
   ],
   "source": [
    "features"
   ]
  },
  {
   "cell_type": "code",
   "execution_count": 12,
   "id": "f32d02c8",
   "metadata": {},
   "outputs": [
    {
     "name": "stdout",
     "output_type": "stream",
     "text": [
      "[[1.6 0.4 1.4]\n",
      " [0.9 1.3 0.3]\n",
      " [2.2 3.2 1.2]]\n"
     ]
    }
   ],
   "source": [
    "print(features)"
   ]
  }
 ],
 "metadata": {
  "kernelspec": {
   "display_name": "Python 3 (ipykernel)",
   "language": "python",
   "name": "python3"
  },
  "language_info": {
   "codemirror_mode": {
    "name": "ipython",
    "version": 3
   },
   "file_extension": ".py",
   "mimetype": "text/x-python",
   "name": "python",
   "nbconvert_exporter": "python",
   "pygments_lexer": "ipython3",
   "version": "3.9.12"
  }
 },
 "nbformat": 4,
 "nbformat_minor": 5
}
