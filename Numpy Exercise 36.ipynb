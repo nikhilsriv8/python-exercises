{
 "cells": [
  {
   "cell_type": "markdown",
   "id": "19fbd322",
   "metadata": {},
   "source": [
    "**The following array is given:**\n",
    "\n",
    "\n",
    "\n",
    "A = np.array(\n",
    "    [\n",
    "        [4.99, 3.49, 9.99],\n",
    "        [1.99, 9.99, 14.99],\n",
    "        [14.99, 2.39, 7.29],\n",
    "    ]\n",
    ")\n",
    "\n",
    "\n",
    "**Using Numpy create an array of the same shape and data type as the given array and fill it with a constant value = 9.99. Print this array to the console.**\n",
    "\n"
   ]
  },
  {
   "cell_type": "code",
   "execution_count": 1,
   "id": "59da9425",
   "metadata": {},
   "outputs": [],
   "source": [
    "import numpy as np\n",
    "\n",
    "\n",
    "A = np.array(\n",
    "    [\n",
    "        [4.99, 3.49, 9.99],\n",
    "        [1.99, 9.99, 14.99],\n",
    "        [14.99, 2.39, 7.29],\n",
    "    ]\n",
    ")"
   ]
  },
  {
   "cell_type": "code",
   "execution_count": 2,
   "id": "914164b1",
   "metadata": {},
   "outputs": [
    {
     "data": {
      "text/plain": [
       "array([[ 4.99,  3.49,  9.99],\n",
       "       [ 1.99,  9.99, 14.99],\n",
       "       [14.99,  2.39,  7.29]])"
      ]
     },
     "execution_count": 2,
     "metadata": {},
     "output_type": "execute_result"
    }
   ],
   "source": [
    "A"
   ]
  },
  {
   "cell_type": "code",
   "execution_count": 5,
   "id": "afac4205",
   "metadata": {},
   "outputs": [
    {
     "data": {
      "text/plain": [
       "array([[9.99, 9.99, 9.99],\n",
       "       [9.99, 9.99, 9.99],\n",
       "       [9.99, 9.99, 9.99]])"
      ]
     },
     "execution_count": 5,
     "metadata": {},
     "output_type": "execute_result"
    }
   ],
   "source": [
    "np.full_like(A, fill_value=9.99, dtype='float')"
   ]
  },
  {
   "cell_type": "code",
   "execution_count": 6,
   "id": "98b8688c",
   "metadata": {},
   "outputs": [
    {
     "name": "stdout",
     "output_type": "stream",
     "text": [
      "[[9.99 9.99 9.99]\n",
      " [9.99 9.99 9.99]\n",
      " [9.99 9.99 9.99]]\n"
     ]
    }
   ],
   "source": [
    "print(np.full_like(A, fill_value=9.99, dtype='float'))"
   ]
  }
 ],
 "metadata": {
  "kernelspec": {
   "display_name": "Python 3 (ipykernel)",
   "language": "python",
   "name": "python3"
  },
  "language_info": {
   "codemirror_mode": {
    "name": "ipython",
    "version": 3
   },
   "file_extension": ".py",
   "mimetype": "text/x-python",
   "name": "python",
   "nbconvert_exporter": "python",
   "pygments_lexer": "ipython3",
   "version": "3.9.12"
  }
 },
 "nbformat": 4,
 "nbformat_minor": 5
}
