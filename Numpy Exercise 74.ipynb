{
 "cells": [
  {
   "cell_type": "markdown",
   "id": "18aeaee0",
   "metadata": {},
   "source": [
    "**Calculate  the roots of the following polynomial:**\n",
    "\n",
    "W(x) = 4x^2 + 5x + 1\n",
    "\n",
    "**In response, print these roots to the console.**"
   ]
  },
  {
   "cell_type": "code",
   "execution_count": 1,
   "id": "d760be6c",
   "metadata": {},
   "outputs": [],
   "source": [
    "import numpy as np"
   ]
  },
  {
   "cell_type": "code",
   "execution_count": 3,
   "id": "ed7a4b5b",
   "metadata": {},
   "outputs": [],
   "source": [
    "W = np.array([4, 5, 1])"
   ]
  },
  {
   "cell_type": "code",
   "execution_count": 4,
   "id": "09948136",
   "metadata": {},
   "outputs": [
    {
     "data": {
      "text/plain": [
       "array([-1.  , -0.25])"
      ]
     },
     "execution_count": 4,
     "metadata": {},
     "output_type": "execute_result"
    }
   ],
   "source": [
    "np.roots(W)"
   ]
  },
  {
   "cell_type": "code",
   "execution_count": 5,
   "id": "4df55f47",
   "metadata": {},
   "outputs": [
    {
     "name": "stdout",
     "output_type": "stream",
     "text": [
      "[-1.   -0.25]\n"
     ]
    }
   ],
   "source": [
    "print(np.roots(W))"
   ]
  }
 ],
 "metadata": {
  "kernelspec": {
   "display_name": "Python 3 (ipykernel)",
   "language": "python",
   "name": "python3"
  },
  "language_info": {
   "codemirror_mode": {
    "name": "ipython",
    "version": 3
   },
   "file_extension": ".py",
   "mimetype": "text/x-python",
   "name": "python",
   "nbconvert_exporter": "python",
   "pygments_lexer": "ipython3",
   "version": "3.9.12"
  }
 },
 "nbformat": 4,
 "nbformat_minor": 5
}
