{
 "cells": [
  {
   "cell_type": "markdown",
   "id": "b0930ea1",
   "metadata": {},
   "source": [
    "**The following array is given:**\n",
    "\n",
    "\n",
    "\n",
    "A = np.random.randn(8, 4)\n",
    "\n",
    "\n",
    "**Remove the third column and print this array to the console.**"
   ]
  },
  {
   "cell_type": "code",
   "execution_count": 1,
   "id": "0b96a162",
   "metadata": {},
   "outputs": [],
   "source": [
    "import numpy as np\n",
    "\n",
    "\n",
    "np.random.seed(42)\n",
    "\n",
    "A = np.random.randn(8, 4)"
   ]
  },
  {
   "cell_type": "code",
   "execution_count": 2,
   "id": "b16e21f9",
   "metadata": {},
   "outputs": [
    {
     "data": {
      "text/plain": [
       "array([[ 0.49671415, -0.1382643 ,  0.64768854,  1.52302986],\n",
       "       [-0.23415337, -0.23413696,  1.57921282,  0.76743473],\n",
       "       [-0.46947439,  0.54256004, -0.46341769, -0.46572975],\n",
       "       [ 0.24196227, -1.91328024, -1.72491783, -0.56228753],\n",
       "       [-1.01283112,  0.31424733, -0.90802408, -1.4123037 ],\n",
       "       [ 1.46564877, -0.2257763 ,  0.0675282 , -1.42474819],\n",
       "       [-0.54438272,  0.11092259, -1.15099358,  0.37569802],\n",
       "       [-0.60063869, -0.29169375, -0.60170661,  1.85227818]])"
      ]
     },
     "execution_count": 2,
     "metadata": {},
     "output_type": "execute_result"
    }
   ],
   "source": [
    "A"
   ]
  },
  {
   "cell_type": "code",
   "execution_count": 5,
   "id": "8e258746",
   "metadata": {},
   "outputs": [
    {
     "data": {
      "text/plain": [
       "array([[ 0.49671415, -0.1382643 ,  1.52302986],\n",
       "       [-0.23415337, -0.23413696,  0.76743473],\n",
       "       [-0.46947439,  0.54256004, -0.46572975],\n",
       "       [ 0.24196227, -1.91328024, -0.56228753],\n",
       "       [-1.01283112,  0.31424733, -1.4123037 ],\n",
       "       [ 1.46564877, -0.2257763 , -1.42474819],\n",
       "       [-0.54438272,  0.11092259,  0.37569802],\n",
       "       [-0.60063869, -0.29169375,  1.85227818]])"
      ]
     },
     "execution_count": 5,
     "metadata": {},
     "output_type": "execute_result"
    }
   ],
   "source": [
    "np.delete(A, 2, axis=1)"
   ]
  },
  {
   "cell_type": "code",
   "execution_count": 6,
   "id": "3285a354",
   "metadata": {},
   "outputs": [
    {
     "name": "stdout",
     "output_type": "stream",
     "text": [
      "[[ 0.49671415 -0.1382643   1.52302986]\n",
      " [-0.23415337 -0.23413696  0.76743473]\n",
      " [-0.46947439  0.54256004 -0.46572975]\n",
      " [ 0.24196227 -1.91328024 -0.56228753]\n",
      " [-1.01283112  0.31424733 -1.4123037 ]\n",
      " [ 1.46564877 -0.2257763  -1.42474819]\n",
      " [-0.54438272  0.11092259  0.37569802]\n",
      " [-0.60063869 -0.29169375  1.85227818]]\n"
     ]
    }
   ],
   "source": [
    "print(np.delete(A, 2, axis=1))"
   ]
  }
 ],
 "metadata": {
  "kernelspec": {
   "display_name": "Python 3 (ipykernel)",
   "language": "python",
   "name": "python3"
  },
  "language_info": {
   "codemirror_mode": {
    "name": "ipython",
    "version": 3
   },
   "file_extension": ".py",
   "mimetype": "text/x-python",
   "name": "python",
   "nbconvert_exporter": "python",
   "pygments_lexer": "ipython3",
   "version": "3.9.12"
  }
 },
 "nbformat": 4,
 "nbformat_minor": 5
}
