{
 "cells": [
  {
   "cell_type": "markdown",
   "id": "93db24b5",
   "metadata": {},
   "source": [
    "**Calculate the roots of the following polynomials:**\n",
    "\n",
    "Q = 2x^3 + 4x^2 - 5x + 1\n",
    "\n",
    "R = 2x^3 - 5x + 1\n",
    "\n",
    "**In response print these roots to the console as shown below.**"
   ]
  },
  {
   "cell_type": "code",
   "execution_count": 1,
   "id": "c8b1aa22",
   "metadata": {},
   "outputs": [],
   "source": [
    "import numpy as np"
   ]
  },
  {
   "cell_type": "code",
   "execution_count": 2,
   "id": "d0b4481f",
   "metadata": {},
   "outputs": [],
   "source": [
    "Q = np.array([2, 4, -5, 1])"
   ]
  },
  {
   "cell_type": "code",
   "execution_count": 4,
   "id": "a5c0b241",
   "metadata": {},
   "outputs": [],
   "source": [
    "R = np.array([2, 0, -5, 1])"
   ]
  },
  {
   "cell_type": "code",
   "execution_count": 5,
   "id": "b03b7dc7",
   "metadata": {},
   "outputs": [
    {
     "data": {
      "text/plain": [
       "array([-2.91610583,  0.65388685,  0.26221898])"
      ]
     },
     "execution_count": 5,
     "metadata": {},
     "output_type": "execute_result"
    }
   ],
   "source": [
    "np.roots(Q)"
   ]
  },
  {
   "cell_type": "code",
   "execution_count": 6,
   "id": "f61a10a6",
   "metadata": {},
   "outputs": [
    {
     "data": {
      "text/plain": [
       "array([-1.67298165,  1.46961743,  0.20336421])"
      ]
     },
     "execution_count": 6,
     "metadata": {},
     "output_type": "execute_result"
    }
   ],
   "source": [
    "np.roots(R)"
   ]
  },
  {
   "cell_type": "code",
   "execution_count": 7,
   "id": "70fc96b5",
   "metadata": {},
   "outputs": [
    {
     "name": "stdout",
     "output_type": "stream",
     "text": [
      "[-2.91610583  0.65388685  0.26221898]\n",
      "[-1.67298165  1.46961743  0.20336421]\n"
     ]
    }
   ],
   "source": [
    "print(np.roots(Q))\n",
    "print(np.roots(R))"
   ]
  },
  {
   "cell_type": "code",
   "execution_count": 8,
   "id": "a8d67933",
   "metadata": {},
   "outputs": [
    {
     "data": {
      "text/plain": [
       "array([2.28077641, 0.21922359])"
      ]
     },
     "execution_count": 8,
     "metadata": {},
     "output_type": "execute_result"
    }
   ],
   "source": [
    "S = np.array([2, -5, 1])\n",
    "np.roots(S)"
   ]
  }
 ],
 "metadata": {
  "kernelspec": {
   "display_name": "Python 3 (ipykernel)",
   "language": "python",
   "name": "python3"
  },
  "language_info": {
   "codemirror_mode": {
    "name": "ipython",
    "version": 3
   },
   "file_extension": ".py",
   "mimetype": "text/x-python",
   "name": "python",
   "nbconvert_exporter": "python",
   "pygments_lexer": "ipython3",
   "version": "3.9.12"
  }
 },
 "nbformat": 4,
 "nbformat_minor": 5
}
