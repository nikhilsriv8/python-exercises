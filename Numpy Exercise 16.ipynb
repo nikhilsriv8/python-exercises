{
 "cells": [
  {
   "cell_type": "markdown",
   "id": "7bb3cb57",
   "metadata": {},
   "source": [
    "**Using Numpy create a two-dimensional array with the shape (10, 4) pseudo-randomly generated values from the normal distribution N(100, 5). Set the random seed to 30.**"
   ]
  },
  {
   "cell_type": "code",
   "execution_count": 1,
   "id": "128ec25e",
   "metadata": {},
   "outputs": [],
   "source": [
    "import numpy as np"
   ]
  },
  {
   "cell_type": "markdown",
   "id": "dc596397",
   "metadata": {},
   "source": [
    "- For normal distribution of **N(100,5)**. The **square root** of 5 is 2.236 (variance)."
   ]
  },
  {
   "cell_type": "code",
   "execution_count": 2,
   "id": "45b0c1b7",
   "metadata": {},
   "outputs": [
    {
     "data": {
      "text/plain": [
       "array([[101.57939702,  98.90363288, 103.45898103, 101.11904871],\n",
       "       [102.33050628, 101.80423919,  95.85373432, 100.74198171],\n",
       "       [101.40795204,  99.79148874,  99.52566862, 100.4672381 ],\n",
       "       [ 98.12731145, 103.18806266,  97.66536503,  98.6733486 ],\n",
       "       [104.31592711, 102.00047353,  98.34676853, 100.23600188],\n",
       "       [100.91522997,  99.7901297 , 100.71920865, 100.817115  ],\n",
       "       [103.15614322, 100.74646211, 103.48756755,  98.59092356],\n",
       "       [102.52836722,  96.95572214,  98.3668065 ,  99.61942006],\n",
       "       [ 99.48162344, 100.54887228, 101.74541791,  97.02489758],\n",
       "       [101.91488131, 100.70906709,  96.02125614, 100.26521307]])"
      ]
     },
     "execution_count": 2,
     "metadata": {},
     "output_type": "execute_result"
    }
   ],
   "source": [
    "100 + 2.24*np.random.randn(10,4)"
   ]
  },
  {
   "cell_type": "code",
   "execution_count": 8,
   "id": "86d0c9e9",
   "metadata": {},
   "outputs": [],
   "source": [
    "np.random.seed(30)"
   ]
  },
  {
   "cell_type": "code",
   "execution_count": 9,
   "id": "2ef1e81d",
   "metadata": {},
   "outputs": [
    {
     "name": "stdout",
     "output_type": "stream",
     "text": [
      "[[ 97.17357824 103.41639637  97.82949034 101.0521713 ]\n",
      " [ 99.77484214 100.67928156  96.14074801 103.54427325]\n",
      " [100.30028718  97.52507118 103.52891233 100.2403654 ]\n",
      " [ 98.29158906  98.26667849 103.09428226 101.70022105]\n",
      " [ 99.36129663 101.20378968  95.34040713 102.0968799 ]\n",
      " [ 99.9870804   98.95471703  99.05413779 102.38018196]\n",
      " [ 93.50807005 103.61536688 103.1874401   98.51360755]\n",
      " [102.20249993  96.19775967  97.54007845  97.05821981]\n",
      " [101.81228004  97.66387556  98.45888312  98.09323565]\n",
      " [102.48972363  95.70426451  98.43166419 101.89856043]]\n"
     ]
    }
   ],
   "source": [
    "print(100 + 2.236*np.random.randn(10,4))"
   ]
  },
  {
   "cell_type": "code",
   "execution_count": 10,
   "id": "81dc47db",
   "metadata": {},
   "outputs": [],
   "source": [
    "sigma = np.sqrt(5)"
   ]
  },
  {
   "cell_type": "code",
   "execution_count": 12,
   "id": "2407e558",
   "metadata": {},
   "outputs": [],
   "source": [
    "mu = 100"
   ]
  },
  {
   "cell_type": "code",
   "execution_count": 13,
   "id": "1078c213",
   "metadata": {},
   "outputs": [],
   "source": [
    "np.random.seed(30)"
   ]
  },
  {
   "cell_type": "code",
   "execution_count": 14,
   "id": "08d1198e",
   "metadata": {},
   "outputs": [
    {
     "name": "stdout",
     "output_type": "stream",
     "text": [
      "[[ 97.17349231 103.41650023  97.82942436 101.05220329]\n",
      " [ 99.7748353  100.67930221  96.14063068 103.544381  ]\n",
      " [100.30029631  97.52499594 103.52901961 100.24037271]\n",
      " [ 98.29153712  98.2666258  103.09437633 101.70027274]\n",
      " [ 99.36127721 101.20382627  95.34026547 102.09694365]\n",
      " [ 99.98708001  98.95468525  99.05410904 102.38025432]\n",
      " [ 93.50787269 103.61547679 103.18753701  98.51356237]\n",
      " [102.20256689  96.19764407  97.54000366  97.05813038]\n",
      " [101.81233513  97.66380453  98.45883627  98.09317768]\n",
      " [102.48979932  95.70413391  98.43161651 101.89861815]]\n"
     ]
    }
   ],
   "source": [
    "print(sigma * np.random.randn(10,4) + mu)"
   ]
  }
 ],
 "metadata": {
  "kernelspec": {
   "display_name": "Python 3 (ipykernel)",
   "language": "python",
   "name": "python3"
  },
  "language_info": {
   "codemirror_mode": {
    "name": "ipython",
    "version": 3
   },
   "file_extension": ".py",
   "mimetype": "text/x-python",
   "name": "python",
   "nbconvert_exporter": "python",
   "pygments_lexer": "ipython3",
   "version": "3.9.12"
  }
 },
 "nbformat": 4,
 "nbformat_minor": 5
}
