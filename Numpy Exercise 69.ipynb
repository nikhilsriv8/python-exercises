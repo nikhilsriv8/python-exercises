{
 "cells": [
  {
   "cell_type": "markdown",
   "id": "1176febe",
   "metadata": {},
   "source": [
    "**The following array (square matrix) is given:**\n",
    "\n",
    "\n",
    "\n",
    "A = np.array([[5, 8, 16], [4, 1, 8], [-4, 4, -11]])\n",
    "\n",
    "\n",
    "**Find the trace of this matrix (sum of elements on the main diagonal) and print result to the console.**"
   ]
  },
  {
   "cell_type": "code",
   "execution_count": 1,
   "id": "387be6ca",
   "metadata": {},
   "outputs": [],
   "source": [
    "import numpy as np\n",
    "\n",
    "\n",
    "A = np.array([[5, 8, 16], [4, 1, 8], [-4, 4, -11]])"
   ]
  },
  {
   "cell_type": "code",
   "execution_count": 2,
   "id": "06c1bebf",
   "metadata": {},
   "outputs": [
    {
     "data": {
      "text/plain": [
       "-5"
      ]
     },
     "execution_count": 2,
     "metadata": {},
     "output_type": "execute_result"
    }
   ],
   "source": [
    "np.trace(A)"
   ]
  },
  {
   "cell_type": "code",
   "execution_count": 3,
   "id": "d19f35c6",
   "metadata": {},
   "outputs": [
    {
     "name": "stdout",
     "output_type": "stream",
     "text": [
      "-5\n"
     ]
    }
   ],
   "source": [
    "print(np.trace(A))"
   ]
  }
 ],
 "metadata": {
  "kernelspec": {
   "display_name": "Python 3 (ipykernel)",
   "language": "python",
   "name": "python3"
  },
  "language_info": {
   "codemirror_mode": {
    "name": "ipython",
    "version": 3
   },
   "file_extension": ".py",
   "mimetype": "text/x-python",
   "name": "python",
   "nbconvert_exporter": "python",
   "pygments_lexer": "ipython3",
   "version": "3.9.12"
  }
 },
 "nbformat": 4,
 "nbformat_minor": 5
}
