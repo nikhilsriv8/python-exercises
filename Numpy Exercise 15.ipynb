{
 "cells": [
  {
   "cell_type": "markdown",
   "id": "ef5b2523",
   "metadata": {},
   "source": [
    "**Using Numpy create a two-dimensional array with the shape (10, 4) pseudo-randomly generated values from the standard normal distribution N(0,1). Set the random seed to 20.**"
   ]
  },
  {
   "cell_type": "code",
   "execution_count": 1,
   "id": "2907b947",
   "metadata": {},
   "outputs": [],
   "source": [
    "import numpy as np"
   ]
  },
  {
   "cell_type": "code",
   "execution_count": 2,
   "id": "2498d88d",
   "metadata": {},
   "outputs": [],
   "source": [
    "np.random.seed(20)"
   ]
  },
  {
   "cell_type": "code",
   "execution_count": 4,
   "id": "2cbdf441",
   "metadata": {},
   "outputs": [
    {
     "data": {
      "text/plain": [
       "array([[ 0.32346101, -0.49341088, -0.79201679, -0.84236793],\n",
       "       [-1.27950266,  0.24571517, -0.0441948 ,  1.56763255],\n",
       "       [ 1.05110868,  0.40636843, -0.1686461 , -3.18970279],\n",
       "       [ 1.12013226,  1.33277821, -0.24333877, -0.13003071],\n",
       "       [-0.10901737,  1.55618644,  0.12877835, -2.06694872],\n",
       "       [-0.88549315, -1.10457948,  0.93286635,  2.059838  ],\n",
       "       [-0.93493796, -1.61299022,  0.52706972, -1.55110074],\n",
       "       [ 0.32961334, -1.13652654, -0.3384906 ,  0.32097078],\n",
       "       [-0.60230802,  1.54472836,  0.64703408,  0.59321721],\n",
       "       [ 0.4380245 ,  1.35778902,  1.20451128,  1.35179619]])"
      ]
     },
     "execution_count": 4,
     "metadata": {},
     "output_type": "execute_result"
    }
   ],
   "source": [
    "np.random.randn(10,4)"
   ]
  },
  {
   "cell_type": "code",
   "execution_count": 6,
   "id": "1bb9c68e",
   "metadata": {},
   "outputs": [],
   "source": [
    "np.random.seed(20)"
   ]
  },
  {
   "cell_type": "code",
   "execution_count": 7,
   "id": "aa2437e4",
   "metadata": {},
   "outputs": [
    {
     "name": "stdout",
     "output_type": "stream",
     "text": [
      "[[ 0.88389311  0.19586502  0.35753652 -2.34326191]\n",
      " [-1.08483259  0.55969629  0.93946935 -0.97848104]\n",
      " [ 0.50309684  0.40641447  0.32346101 -0.49341088]\n",
      " [-0.79201679 -0.84236793 -1.27950266  0.24571517]\n",
      " [-0.0441948   1.56763255  1.05110868  0.40636843]\n",
      " [-0.1686461  -3.18970279  1.12013226  1.33277821]\n",
      " [-0.24333877 -0.13003071 -0.10901737  1.55618644]\n",
      " [ 0.12877835 -2.06694872 -0.88549315 -1.10457948]\n",
      " [ 0.93286635  2.059838   -0.93493796 -1.61299022]\n",
      " [ 0.52706972 -1.55110074  0.32961334 -1.13652654]]\n"
     ]
    }
   ],
   "source": [
    "print(np.random.randn(10,4))"
   ]
  }
 ],
 "metadata": {
  "kernelspec": {
   "display_name": "Python 3 (ipykernel)",
   "language": "python",
   "name": "python3"
  },
  "language_info": {
   "codemirror_mode": {
    "name": "ipython",
    "version": 3
   },
   "file_extension": ".py",
   "mimetype": "text/x-python",
   "name": "python",
   "nbconvert_exporter": "python",
   "pygments_lexer": "ipython3",
   "version": "3.9.12"
  }
 },
 "nbformat": 4,
 "nbformat_minor": 5
}
