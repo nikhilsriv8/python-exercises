{
 "cells": [
  {
   "cell_type": "markdown",
   "id": "95a70182",
   "metadata": {},
   "source": [
    "**The following array is given:**\n",
    "\n",
    "\n",
    "\n",
    "A = np.array([['#summer#time#mood'], ['#sport#time']])\n",
    "\n",
    "\n",
    "**Replace all # characters with spaces and then strip all unnecessary white characters around the text as shown below. In response, print this array to the console.**"
   ]
  },
  {
   "cell_type": "code",
   "execution_count": 1,
   "id": "7d116954",
   "metadata": {},
   "outputs": [],
   "source": [
    "import numpy as np\n",
    "\n",
    "\n",
    "A = np.array([['#summer#time#mood'], ['#sport#time']])"
   ]
  },
  {
   "cell_type": "code",
   "execution_count": 3,
   "id": "01779945",
   "metadata": {},
   "outputs": [],
   "source": [
    "A = np.char.replace(A, '#', ' ')"
   ]
  },
  {
   "cell_type": "code",
   "execution_count": 5,
   "id": "faeec7e6",
   "metadata": {},
   "outputs": [],
   "source": [
    "A = np.char.strip(A)"
   ]
  },
  {
   "cell_type": "code",
   "execution_count": 6,
   "id": "16089d04",
   "metadata": {},
   "outputs": [
    {
     "name": "stdout",
     "output_type": "stream",
     "text": [
      "[['summer time mood']\n",
      " ['sport time']]\n"
     ]
    }
   ],
   "source": [
    "print(A)"
   ]
  }
 ],
 "metadata": {
  "kernelspec": {
   "display_name": "Python 3 (ipykernel)",
   "language": "python",
   "name": "python3"
  },
  "language_info": {
   "codemirror_mode": {
    "name": "ipython",
    "version": 3
   },
   "file_extension": ".py",
   "mimetype": "text/x-python",
   "name": "python",
   "nbconvert_exporter": "python",
   "pygments_lexer": "ipython3",
   "version": "3.9.12"
  }
 },
 "nbformat": 4,
 "nbformat_minor": 5
}
