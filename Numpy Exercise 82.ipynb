{
 "cells": [
  {
   "cell_type": "markdown",
   "id": "bcf10e69",
   "metadata": {},
   "source": [
    "**The following arrays are given:**\n",
    "\n",
    "\n",
    "\n",
    "A = np.array(['001', '002', '003'], dtype=np.str)\n",
    "\n",
    "B = np.array(['XC', 'YC', 'ZC'], dtype=np.str)\n",
    "\n",
    "\n",
    "**Merge them together as shown below and print result to the console.**"
   ]
  },
  {
   "cell_type": "code",
   "execution_count": 2,
   "id": "5ae1c26b",
   "metadata": {},
   "outputs": [],
   "source": [
    "import numpy as np\n",
    "\n",
    "\n",
    "A = np.array(['001', '002', '003'], dtype=np.str_)\n",
    "B = np.array(['XC', 'YC', 'ZC'], dtype=np.str_)"
   ]
  },
  {
   "cell_type": "code",
   "execution_count": 3,
   "id": "88ec56fc",
   "metadata": {},
   "outputs": [
    {
     "data": {
      "text/plain": [
       "array(['001XC', '002YC', '003ZC'], dtype='<U5')"
      ]
     },
     "execution_count": 3,
     "metadata": {},
     "output_type": "execute_result"
    }
   ],
   "source": [
    "np.char.add(A,B)"
   ]
  },
  {
   "cell_type": "code",
   "execution_count": 4,
   "id": "58b36905",
   "metadata": {},
   "outputs": [
    {
     "name": "stdout",
     "output_type": "stream",
     "text": [
      "['001XC' '002YC' '003ZC']\n"
     ]
    }
   ],
   "source": [
    "print(np.char.add(A, B))"
   ]
  }
 ],
 "metadata": {
  "kernelspec": {
   "display_name": "Python 3 (ipykernel)",
   "language": "python",
   "name": "python3"
  },
  "language_info": {
   "codemirror_mode": {
    "name": "ipython",
    "version": 3
   },
   "file_extension": ".py",
   "mimetype": "text/x-python",
   "name": "python",
   "nbconvert_exporter": "python",
   "pygments_lexer": "ipython3",
   "version": "3.9.12"
  }
 },
 "nbformat": 4,
 "nbformat_minor": 5
}
