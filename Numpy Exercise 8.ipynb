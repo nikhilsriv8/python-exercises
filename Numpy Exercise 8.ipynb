{
 "cells": [
  {
   "cell_type": "markdown",
   "id": "91165a7d",
   "metadata": {},
   "source": [
    "**The following arrays are given:**\n",
    "\n",
    "**A = np.array([0.4, 0.5, 0.3, 0.9])**\n",
    "\n",
    "**B = np.array([0.38, 0.51, 0.3, 0.91])**"
   ]
  },
  {
   "cell_type": "code",
   "execution_count": 1,
   "id": "f446571a",
   "metadata": {},
   "outputs": [],
   "source": [
    "import numpy as np"
   ]
  },
  {
   "cell_type": "code",
   "execution_count": 2,
   "id": "c41b7ba9",
   "metadata": {},
   "outputs": [],
   "source": [
    "A = np.array([0.4, 0.5, 0.3, 0.9])\n",
    "B = np.array([0.38, 0.51, 0.3, 0.91])"
   ]
  },
  {
   "cell_type": "code",
   "execution_count": 3,
   "id": "5f86c82b",
   "metadata": {},
   "outputs": [
    {
     "data": {
      "text/plain": [
       "array([ True, False, False, False])"
      ]
     },
     "execution_count": 3,
     "metadata": {},
     "output_type": "execute_result"
    }
   ],
   "source": [
    "A > B"
   ]
  },
  {
   "cell_type": "code",
   "execution_count": 5,
   "id": "4e8f6fee",
   "metadata": {},
   "outputs": [
    {
     "name": "stdout",
     "output_type": "stream",
     "text": [
      "[ True False False False]\n"
     ]
    }
   ],
   "source": [
    "print(A > B)"
   ]
  },
  {
   "cell_type": "code",
   "execution_count": 6,
   "id": "3a3ee218",
   "metadata": {},
   "outputs": [
    {
     "name": "stdout",
     "output_type": "stream",
     "text": [
      "[ True False False False]\n"
     ]
    }
   ],
   "source": [
    "print(np.greater(A,B))"
   ]
  }
 ],
 "metadata": {
  "kernelspec": {
   "display_name": "Python 3 (ipykernel)",
   "language": "python",
   "name": "python3"
  },
  "language_info": {
   "codemirror_mode": {
    "name": "ipython",
    "version": 3
   },
   "file_extension": ".py",
   "mimetype": "text/x-python",
   "name": "python",
   "nbconvert_exporter": "python",
   "pygments_lexer": "ipython3",
   "version": "3.9.12"
  }
 },
 "nbformat": 4,
 "nbformat_minor": 5
}
