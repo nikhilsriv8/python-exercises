{
 "cells": [
  {
   "cell_type": "code",
   "execution_count": 1,
   "id": "3d9b1ba0",
   "metadata": {},
   "outputs": [],
   "source": [
    "import numpy as np"
   ]
  },
  {
   "cell_type": "code",
   "execution_count": 10,
   "id": "1ad1bf3d",
   "metadata": {},
   "outputs": [],
   "source": [
    "A = np.array(\n",
    "    [\n",
    "        [[4, 5, 4, 2], [6, 3, 5, 1], [5, 2, 1, 2]],\n",
    "        [[7, 2, 3, 1], [6, 2, 0, 9], [0, 1, 9, 1]],\n",
    "    ]\n",
    ")"
   ]
  },
  {
   "cell_type": "code",
   "execution_count": 11,
   "id": "a686354a",
   "metadata": {},
   "outputs": [
    {
     "data": {
      "text/plain": [
       "array([[[4, 5, 4, 2],\n",
       "        [6, 3, 5, 1],\n",
       "        [5, 2, 1, 2]],\n",
       "\n",
       "       [[7, 2, 3, 1],\n",
       "        [6, 2, 0, 9],\n",
       "        [0, 1, 9, 1]]])"
      ]
     },
     "execution_count": 11,
     "metadata": {},
     "output_type": "execute_result"
    }
   ],
   "source": [
    "A"
   ]
  },
  {
   "cell_type": "code",
   "execution_count": 12,
   "id": "3003cdc3",
   "metadata": {},
   "outputs": [
    {
     "name": "stdout",
     "output_type": "stream",
     "text": [
      "[[[4 5 4 2]\n",
      "  [6 3 5 1]\n",
      "  [5 2 1 2]]\n",
      "\n",
      " [[7 2 3 1]\n",
      "  [6 2 0 9]\n",
      "  [0 1 9 1]]]\n"
     ]
    }
   ],
   "source": [
    "print(A)"
   ]
  }
 ],
 "metadata": {
  "kernelspec": {
   "display_name": "Python 3 (ipykernel)",
   "language": "python",
   "name": "python3"
  },
  "language_info": {
   "codemirror_mode": {
    "name": "ipython",
    "version": 3
   },
   "file_extension": ".py",
   "mimetype": "text/x-python",
   "name": "python",
   "nbconvert_exporter": "python",
   "pygments_lexer": "ipython3",
   "version": "3.9.12"
  }
 },
 "nbformat": 4,
 "nbformat_minor": 5
}
