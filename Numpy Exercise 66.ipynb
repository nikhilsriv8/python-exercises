{
 "cells": [
  {
   "cell_type": "markdown",
   "id": "f73c9412",
   "metadata": {},
   "source": [
    "**The following array (square matrix) is given:**\n",
    "\n",
    "\n",
    "\n",
    "A = np.array([[-2, 0, 4], [5, 2, -1], [-4, 2, 4]])\n",
    "\n",
    "\n",
    "**Calculate the determinant of this matrix and print it to the console.**"
   ]
  },
  {
   "cell_type": "code",
   "execution_count": 1,
   "id": "95ab7faf",
   "metadata": {},
   "outputs": [],
   "source": [
    "import numpy as np\n",
    "\n",
    "\n",
    "A = np.array([[-2, 0, 4], [5, 2, -1], [-4, 2, 4]])"
   ]
  },
  {
   "cell_type": "code",
   "execution_count": 2,
   "id": "389a19ab",
   "metadata": {},
   "outputs": [
    {
     "data": {
      "text/plain": [
       "51.999999999999986"
      ]
     },
     "execution_count": 2,
     "metadata": {},
     "output_type": "execute_result"
    }
   ],
   "source": [
    "np.linalg.det(A)"
   ]
  },
  {
   "cell_type": "code",
   "execution_count": 3,
   "id": "762ca6a2",
   "metadata": {},
   "outputs": [
    {
     "name": "stdout",
     "output_type": "stream",
     "text": [
      "51.999999999999986\n"
     ]
    }
   ],
   "source": [
    "print(np.linalg.det(A))"
   ]
  }
 ],
 "metadata": {
  "kernelspec": {
   "display_name": "Python 3 (ipykernel)",
   "language": "python",
   "name": "python3"
  },
  "language_info": {
   "codemirror_mode": {
    "name": "ipython",
    "version": 3
   },
   "file_extension": ".py",
   "mimetype": "text/x-python",
   "name": "python",
   "nbconvert_exporter": "python",
   "pygments_lexer": "ipython3",
   "version": "3.9.12"
  }
 },
 "nbformat": 4,
 "nbformat_minor": 5
}
