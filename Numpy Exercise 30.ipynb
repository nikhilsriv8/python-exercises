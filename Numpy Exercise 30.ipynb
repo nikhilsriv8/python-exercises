{
 "cells": [
  {
   "cell_type": "markdown",
   "id": "bfbe94cf",
   "metadata": {},
   "source": [
    "**The following array is given:**\n",
    "\n",
    "\n",
    "\n",
    "A = np.array([[0.4, 0.3, 0.3],\n",
    "              [0.1, 0.1, 0.8],\n",
    "              [0.2, 0.5, 0.3]])\n",
    "\n",
    "\n",
    "**Return a list of indexes with maximum values for each row from this array and print it to the console.**"
   ]
  },
  {
   "cell_type": "code",
   "execution_count": 1,
   "id": "dd846e3d",
   "metadata": {},
   "outputs": [],
   "source": [
    "import numpy as np"
   ]
  },
  {
   "cell_type": "code",
   "execution_count": 2,
   "id": "0b95a220",
   "metadata": {},
   "outputs": [],
   "source": [
    "A = np.array([[0.4, 0.3, 0.3],\n",
    "              [0.1, 0.1, 0.8],\n",
    "              [0.2, 0.5, 0.3]])"
   ]
  },
  {
   "cell_type": "code",
   "execution_count": 3,
   "id": "92e5a2e5",
   "metadata": {},
   "outputs": [
    {
     "data": {
      "text/plain": [
       "array([[0.4, 0.3, 0.3],\n",
       "       [0.1, 0.1, 0.8],\n",
       "       [0.2, 0.5, 0.3]])"
      ]
     },
     "execution_count": 3,
     "metadata": {},
     "output_type": "execute_result"
    }
   ],
   "source": [
    "A"
   ]
  },
  {
   "cell_type": "code",
   "execution_count": 5,
   "id": "5a3c8fe7",
   "metadata": {},
   "outputs": [
    {
     "data": {
      "text/plain": [
       "array([0, 2, 1], dtype=int64)"
      ]
     },
     "execution_count": 5,
     "metadata": {},
     "output_type": "execute_result"
    }
   ],
   "source": [
    "np.argmax(A, axis=0)"
   ]
  },
  {
   "cell_type": "code",
   "execution_count": 6,
   "id": "5d50cf70",
   "metadata": {},
   "outputs": [
    {
     "name": "stdout",
     "output_type": "stream",
     "text": [
      "[0 2 1]\n"
     ]
    }
   ],
   "source": [
    "print(np.argmax(A, axis=0))"
   ]
  }
 ],
 "metadata": {
  "kernelspec": {
   "display_name": "Python 3 (ipykernel)",
   "language": "python",
   "name": "python3"
  },
  "language_info": {
   "codemirror_mode": {
    "name": "ipython",
    "version": 3
   },
   "file_extension": ".py",
   "mimetype": "text/x-python",
   "name": "python",
   "nbconvert_exporter": "python",
   "pygments_lexer": "ipython3",
   "version": "3.9.12"
  }
 },
 "nbformat": 4,
 "nbformat_minor": 5
}
