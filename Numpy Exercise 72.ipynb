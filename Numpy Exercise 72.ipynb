{
 "cells": [
  {
   "cell_type": "markdown",
   "id": "9d4c25be",
   "metadata": {},
   "source": [
    "**The following array is given:**\n",
    "\n",
    "\n",
    "\n",
    "A = np.array([0.2, 0.15, 0.1, 0.3, 0.2, 0.05])\n",
    "\n",
    "\n",
    "**Return a list of indexes that sorts this array in ascending order and print it to the console.**"
   ]
  },
  {
   "cell_type": "code",
   "execution_count": 1,
   "id": "41ca9ac9",
   "metadata": {},
   "outputs": [],
   "source": [
    "import numpy as np\n",
    "\n",
    "\n",
    "A = np.array([0.2, 0.15, 0.1, 0.3, 0.2, 0.05])"
   ]
  },
  {
   "cell_type": "code",
   "execution_count": 2,
   "id": "34f826df",
   "metadata": {},
   "outputs": [
    {
     "data": {
      "text/plain": [
       "array([5, 2, 1, 0, 4, 3], dtype=int64)"
      ]
     },
     "execution_count": 2,
     "metadata": {},
     "output_type": "execute_result"
    }
   ],
   "source": [
    "np.argsort(A)"
   ]
  },
  {
   "cell_type": "code",
   "execution_count": 3,
   "id": "23de51fc",
   "metadata": {},
   "outputs": [
    {
     "name": "stdout",
     "output_type": "stream",
     "text": [
      "[5 2 1 0 4 3]\n"
     ]
    }
   ],
   "source": [
    "print(np.argsort(A))"
   ]
  }
 ],
 "metadata": {
  "kernelspec": {
   "display_name": "Python 3 (ipykernel)",
   "language": "python",
   "name": "python3"
  },
  "language_info": {
   "codemirror_mode": {
    "name": "ipython",
    "version": 3
   },
   "file_extension": ".py",
   "mimetype": "text/x-python",
   "name": "python",
   "nbconvert_exporter": "python",
   "pygments_lexer": "ipython3",
   "version": "3.9.12"
  }
 },
 "nbformat": 4,
 "nbformat_minor": 5
}
