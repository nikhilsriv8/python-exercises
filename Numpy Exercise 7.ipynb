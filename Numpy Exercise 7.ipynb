{
 "cells": [
  {
   "cell_type": "markdown",
   "id": "f9451857",
   "metadata": {},
   "source": [
    "**Check if the following arrays are equal (element-wise)**"
   ]
  },
  {
   "cell_type": "code",
   "execution_count": 1,
   "id": "137dc3f2",
   "metadata": {},
   "outputs": [],
   "source": [
    "import numpy as np"
   ]
  },
  {
   "cell_type": "code",
   "execution_count": 2,
   "id": "3b508fdc",
   "metadata": {},
   "outputs": [],
   "source": [
    "A = np.array([0.4, 0.5, 0.3])\n",
    "B = np.array([0.39999999, 0.5000001, 0.3])"
   ]
  },
  {
   "cell_type": "code",
   "execution_count": 3,
   "id": "56d5793b",
   "metadata": {},
   "outputs": [
    {
     "data": {
      "text/plain": [
       "True"
      ]
     },
     "execution_count": 3,
     "metadata": {},
     "output_type": "execute_result"
    }
   ],
   "source": [
    "np.allclose(A,B)"
   ]
  },
  {
   "cell_type": "code",
   "execution_count": 4,
   "id": "3e528bf2",
   "metadata": {},
   "outputs": [
    {
     "name": "stdout",
     "output_type": "stream",
     "text": [
      "True\n"
     ]
    }
   ],
   "source": [
    "print(np.allclose(A,B))"
   ]
  }
 ],
 "metadata": {
  "kernelspec": {
   "display_name": "Python 3 (ipykernel)",
   "language": "python",
   "name": "python3"
  },
  "language_info": {
   "codemirror_mode": {
    "name": "ipython",
    "version": 3
   },
   "file_extension": ".py",
   "mimetype": "text/x-python",
   "name": "python",
   "nbconvert_exporter": "python",
   "pygments_lexer": "ipython3",
   "version": "3.9.12"
  }
 },
 "nbformat": 4,
 "nbformat_minor": 5
}
