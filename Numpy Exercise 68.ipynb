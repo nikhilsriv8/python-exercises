{
 "cells": [
  {
   "cell_type": "markdown",
   "id": "c2470746",
   "metadata": {},
   "source": [
    "**The following array (square matrix) is given:**\n",
    "\n",
    "\n",
    "\n",
    "A = np.array([[5, 8, 16], [4, 1, 8], [-4, 4, -11]])\n",
    "\n",
    "\n",
    "**Find the inverse matrix to this matrix and print it to the console.**"
   ]
  },
  {
   "cell_type": "code",
   "execution_count": 1,
   "id": "a9e0924b",
   "metadata": {},
   "outputs": [],
   "source": [
    "import numpy as np\n",
    "\n",
    "\n",
    "A = np.array([[5, 8, 16], [4, 1, 8], [-4, 4, -11]])"
   ]
  },
  {
   "cell_type": "code",
   "execution_count": 2,
   "id": "78d92487",
   "metadata": {},
   "outputs": [
    {
     "data": {
      "text/plain": [
       "array([[-0.21393035,  0.75621891,  0.23880597],\n",
       "       [ 0.05970149,  0.04477612,  0.11940299],\n",
       "       [ 0.09950249, -0.25870647, -0.13432836]])"
      ]
     },
     "execution_count": 2,
     "metadata": {},
     "output_type": "execute_result"
    }
   ],
   "source": [
    "np.linalg.inv(A)"
   ]
  },
  {
   "cell_type": "code",
   "execution_count": 3,
   "id": "4b0fc62c",
   "metadata": {},
   "outputs": [
    {
     "name": "stdout",
     "output_type": "stream",
     "text": [
      "[[-0.21393035  0.75621891  0.23880597]\n",
      " [ 0.05970149  0.04477612  0.11940299]\n",
      " [ 0.09950249 -0.25870647 -0.13432836]]\n"
     ]
    }
   ],
   "source": [
    "print(np.linalg.inv(A))"
   ]
  }
 ],
 "metadata": {
  "kernelspec": {
   "display_name": "Python 3 (ipykernel)",
   "language": "python",
   "name": "python3"
  },
  "language_info": {
   "codemirror_mode": {
    "name": "ipython",
    "version": 3
   },
   "file_extension": ".py",
   "mimetype": "text/x-python",
   "name": "python",
   "nbconvert_exporter": "python",
   "pygments_lexer": "ipython3",
   "version": "3.9.12"
  }
 },
 "nbformat": 4,
 "nbformat_minor": 5
}
