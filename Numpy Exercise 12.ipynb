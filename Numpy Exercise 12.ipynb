{
 "cells": [
  {
   "cell_type": "markdown",
   "id": "fe582b02",
   "metadata": {},
   "source": [
    "**Using Numpy create a one-dimensional array of all two-digit numbers and print this array to the console as shown below.**"
   ]
  },
  {
   "cell_type": "markdown",
   "id": "3f4e580b",
   "metadata": {},
   "source": [
    "**Using Numpy create the following array:**\n",
    "\n",
    "[[10 11 12 13 14 15 16 17 18 19]\n",
    "\n",
    "[20 21 22 23 24 25 26 27 28 29]\n",
    "\n",
    "[30 31 32 33 34 35 36 37 38 39]\n",
    "\n",
    "[40 41 42 43 44 45 46 47 48 49]\n",
    "\n",
    "[50 51 52 53 54 55 56 57 58 59]\n",
    "\n",
    "[60 61 62 63 64 65 66 67 68 69]\n",
    "\n",
    "[70 71 72 73 74 75 76 77 78 79]\n",
    "\n",
    "[80 81 82 83 84 85 86 87 88 89]\n",
    "\n",
    "[90 91 92 93 94 95 96 97 98 99]]"
   ]
  },
  {
   "cell_type": "code",
   "execution_count": 1,
   "id": "35b644ff",
   "metadata": {},
   "outputs": [],
   "source": [
    "import numpy as np"
   ]
  },
  {
   "cell_type": "code",
   "execution_count": 11,
   "id": "f96bee0b",
   "metadata": {},
   "outputs": [],
   "source": [
    "arr=np.arange(10,100,1)"
   ]
  },
  {
   "cell_type": "code",
   "execution_count": 16,
   "id": "99497a47",
   "metadata": {},
   "outputs": [
    {
     "name": "stdout",
     "output_type": "stream",
     "text": [
      "[10 11 12 13 14 15 16 17 18 19 20 21 22 23 24 25 26 27 28 29 30 31 32 33\n",
      " 34 35 36 37 38 39 40 41 42 43 44 45 46 47 48 49 50 51 52 53 54 55 56 57\n",
      " 58 59 60 61 62 63 64 65 66 67 68 69 70 71 72 73 74 75 76 77 78 79 80 81\n",
      " 82 83 84 85 86 87 88 89 90 91 92 93 94 95 96 97 98 99]\n"
     ]
    }
   ],
   "source": [
    "print(arr)"
   ]
  },
  {
   "cell_type": "code",
   "execution_count": 13,
   "id": "e3d1056e",
   "metadata": {},
   "outputs": [],
   "source": [
    "newarr = arr.reshape(9,10)"
   ]
  },
  {
   "cell_type": "code",
   "execution_count": 15,
   "id": "654fad32",
   "metadata": {},
   "outputs": [
    {
     "name": "stdout",
     "output_type": "stream",
     "text": [
      "[[10 11 12 13 14 15 16 17 18 19]\n",
      " [20 21 22 23 24 25 26 27 28 29]\n",
      " [30 31 32 33 34 35 36 37 38 39]\n",
      " [40 41 42 43 44 45 46 47 48 49]\n",
      " [50 51 52 53 54 55 56 57 58 59]\n",
      " [60 61 62 63 64 65 66 67 68 69]\n",
      " [70 71 72 73 74 75 76 77 78 79]\n",
      " [80 81 82 83 84 85 86 87 88 89]\n",
      " [90 91 92 93 94 95 96 97 98 99]]\n"
     ]
    }
   ],
   "source": [
    "print(newarr)"
   ]
  }
 ],
 "metadata": {
  "kernelspec": {
   "display_name": "Python 3 (ipykernel)",
   "language": "python",
   "name": "python3"
  },
  "language_info": {
   "codemirror_mode": {
    "name": "ipython",
    "version": 3
   },
   "file_extension": ".py",
   "mimetype": "text/x-python",
   "name": "python",
   "nbconvert_exporter": "python",
   "pygments_lexer": "ipython3",
   "version": "3.9.12"
  }
 },
 "nbformat": 4,
 "nbformat_minor": 5
}
