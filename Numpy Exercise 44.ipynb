{
 "cells": [
  {
   "cell_type": "markdown",
   "id": "f8716862",
   "metadata": {},
   "source": [
    "**Two randomly generated arrays are given:**\n",
    "\n",
    "\n",
    "\n",
    "image1 = np.random.randint(\n",
    "    low=0, high=256, size=(200, 300, 3), dtype=np.uint8\n",
    ")\n",
    "image2 = np.random.randint(\n",
    "    low=0, high=256, size=(200, 300, 3), dtype=np.uint8\n",
    ")\n",
    "\n",
    "\n",
    "**Expand each of these arrays by adding one dimension at the beginning and then combine these arrays into one called images. Expected shape of images array: (2, 200, 300, 3).**"
   ]
  },
  {
   "cell_type": "code",
   "execution_count": 1,
   "id": "7ea217a3",
   "metadata": {},
   "outputs": [],
   "source": [
    "import numpy as np\n",
    "\n",
    "\n",
    "image1 = np.random.randint(\n",
    "    low=0, high=256, size=(200, 300, 3), dtype=np.uint8\n",
    ")\n",
    "image2 = np.random.randint(\n",
    "    low=0, high=256, size=(200, 300, 3), dtype=np.uint8\n",
    ")\n"
   ]
  },
  {
   "cell_type": "code",
   "execution_count": 2,
   "id": "5e3ec411",
   "metadata": {},
   "outputs": [
    {
     "data": {
      "text/plain": [
       "array([[[206,  46,  87],\n",
       "        [ 16, 129, 155],\n",
       "        [  3, 118,  49],\n",
       "        ...,\n",
       "        [ 62,  74,  37],\n",
       "        [ 58, 144,  36],\n",
       "        [108,  88, 147]],\n",
       "\n",
       "       [[251, 184, 196],\n",
       "        [210,  57, 132],\n",
       "        [110, 208,  26],\n",
       "        ...,\n",
       "        [226, 220,  46],\n",
       "        [228, 177,  27],\n",
       "        [ 60,   1,  50]],\n",
       "\n",
       "       [[ 25, 148, 135],\n",
       "        [133, 242, 216],\n",
       "        [136,  28, 179],\n",
       "        ...,\n",
       "        [ 94,  81, 100],\n",
       "        [ 68, 142, 232],\n",
       "        [233, 102,  56]],\n",
       "\n",
       "       ...,\n",
       "\n",
       "       [[ 44,  65,  61],\n",
       "        [200, 162, 150],\n",
       "        [ 72, 216, 122],\n",
       "        ...,\n",
       "        [150,  23, 203],\n",
       "        [255,  84,  21],\n",
       "        [ 64,  53, 198]],\n",
       "\n",
       "       [[ 39, 199, 185],\n",
       "        [235,  16, 104],\n",
       "        [137,  44, 120],\n",
       "        ...,\n",
       "        [ 18, 102,  56],\n",
       "        [250,  34,  79],\n",
       "        [240, 229, 198]],\n",
       "\n",
       "       [[205, 156, 150],\n",
       "        [ 95,  61, 105],\n",
       "        [251, 155,  27],\n",
       "        ...,\n",
       "        [ 79, 113, 158],\n",
       "        [224,  95,  13],\n",
       "        [225, 108, 124]]], dtype=uint8)"
      ]
     },
     "execution_count": 2,
     "metadata": {},
     "output_type": "execute_result"
    }
   ],
   "source": [
    "image1"
   ]
  },
  {
   "cell_type": "code",
   "execution_count": 3,
   "id": "c7fb0c92",
   "metadata": {},
   "outputs": [
    {
     "data": {
      "text/plain": [
       "array([[[ 41,   2, 231],\n",
       "        [195,  63,  14],\n",
       "        [106, 204,   0],\n",
       "        ...,\n",
       "        [  5,  91, 235],\n",
       "        [165,  88, 111],\n",
       "        [225, 207, 193]],\n",
       "\n",
       "       [[172,  53, 169],\n",
       "        [  7,  51,  37],\n",
       "        [ 63, 254,  47],\n",
       "        ...,\n",
       "        [155, 255,  51],\n",
       "        [201, 151, 101],\n",
       "        [158, 208, 180]],\n",
       "\n",
       "       [[214, 157, 250],\n",
       "        [108,  41, 246],\n",
       "        [235, 223, 230],\n",
       "        ...,\n",
       "        [137, 235, 220],\n",
       "        [ 18,  23,  61],\n",
       "        [  6,  27,  76]],\n",
       "\n",
       "       ...,\n",
       "\n",
       "       [[118, 128, 136],\n",
       "        [144,  26, 123],\n",
       "        [ 77,  21,  48],\n",
       "        ...,\n",
       "        [ 29, 220,  56],\n",
       "        [134,  74,  95],\n",
       "        [  2, 185,  72]],\n",
       "\n",
       "       [[ 77, 238, 144],\n",
       "        [180, 183, 180],\n",
       "        [200, 165, 201],\n",
       "        ...,\n",
       "        [ 73, 179,  67],\n",
       "        [128,  81, 140],\n",
       "        [221,  17,  86]],\n",
       "\n",
       "       [[113, 223,  89],\n",
       "        [219, 230,  45],\n",
       "        [165,   7,  47],\n",
       "        ...,\n",
       "        [ 81, 135, 237],\n",
       "        [ 61,  48, 214],\n",
       "        [190,  60, 191]]], dtype=uint8)"
      ]
     },
     "execution_count": 3,
     "metadata": {},
     "output_type": "execute_result"
    }
   ],
   "source": [
    "image2"
   ]
  },
  {
   "cell_type": "code",
   "execution_count": 10,
   "id": "bfe3c293",
   "metadata": {},
   "outputs": [],
   "source": [
    "images = np.concatenate((image1, image2), axis=1)"
   ]
  },
  {
   "cell_type": "code",
   "execution_count": 11,
   "id": "9b66ff91",
   "metadata": {},
   "outputs": [
    {
     "data": {
      "text/plain": [
       "(200, 600, 3)"
      ]
     },
     "execution_count": 11,
     "metadata": {},
     "output_type": "execute_result"
    }
   ],
   "source": [
    "images.shape"
   ]
  },
  {
   "cell_type": "code",
   "execution_count": 12,
   "id": "24694f7b",
   "metadata": {},
   "outputs": [],
   "source": [
    "im1=np.expand_dims(image1, axis=0)"
   ]
  },
  {
   "cell_type": "code",
   "execution_count": 13,
   "id": "6c061986",
   "metadata": {},
   "outputs": [
    {
     "data": {
      "text/plain": [
       "(1, 200, 300, 3)"
      ]
     },
     "execution_count": 13,
     "metadata": {},
     "output_type": "execute_result"
    }
   ],
   "source": [
    "im1.shape"
   ]
  },
  {
   "cell_type": "code",
   "execution_count": 14,
   "id": "13f1def2",
   "metadata": {},
   "outputs": [],
   "source": [
    "im2=np.expand_dims(image2, axis=0)"
   ]
  },
  {
   "cell_type": "code",
   "execution_count": 15,
   "id": "cc2e087d",
   "metadata": {},
   "outputs": [
    {
     "data": {
      "text/plain": [
       "(1, 200, 300, 3)"
      ]
     },
     "execution_count": 15,
     "metadata": {},
     "output_type": "execute_result"
    }
   ],
   "source": [
    "im2.shape"
   ]
  },
  {
   "cell_type": "code",
   "execution_count": 16,
   "id": "5d86cb7d",
   "metadata": {},
   "outputs": [],
   "source": [
    "im = np.concatenate((im1, im2), axis=0)"
   ]
  },
  {
   "cell_type": "code",
   "execution_count": 17,
   "id": "920ab7b5",
   "metadata": {},
   "outputs": [
    {
     "data": {
      "text/plain": [
       "(2, 200, 300, 3)"
      ]
     },
     "execution_count": 17,
     "metadata": {},
     "output_type": "execute_result"
    }
   ],
   "source": [
    "im.shape"
   ]
  },
  {
   "cell_type": "code",
   "execution_count": 18,
   "id": "a990d7a3",
   "metadata": {},
   "outputs": [
    {
     "name": "stdout",
     "output_type": "stream",
     "text": [
      "[[[[206  46  87]\n",
      "   [ 16 129 155]\n",
      "   [  3 118  49]\n",
      "   ...\n",
      "   [ 62  74  37]\n",
      "   [ 58 144  36]\n",
      "   [108  88 147]]\n",
      "\n",
      "  [[251 184 196]\n",
      "   [210  57 132]\n",
      "   [110 208  26]\n",
      "   ...\n",
      "   [226 220  46]\n",
      "   [228 177  27]\n",
      "   [ 60   1  50]]\n",
      "\n",
      "  [[ 25 148 135]\n",
      "   [133 242 216]\n",
      "   [136  28 179]\n",
      "   ...\n",
      "   [ 94  81 100]\n",
      "   [ 68 142 232]\n",
      "   [233 102  56]]\n",
      "\n",
      "  ...\n",
      "\n",
      "  [[ 44  65  61]\n",
      "   [200 162 150]\n",
      "   [ 72 216 122]\n",
      "   ...\n",
      "   [150  23 203]\n",
      "   [255  84  21]\n",
      "   [ 64  53 198]]\n",
      "\n",
      "  [[ 39 199 185]\n",
      "   [235  16 104]\n",
      "   [137  44 120]\n",
      "   ...\n",
      "   [ 18 102  56]\n",
      "   [250  34  79]\n",
      "   [240 229 198]]\n",
      "\n",
      "  [[205 156 150]\n",
      "   [ 95  61 105]\n",
      "   [251 155  27]\n",
      "   ...\n",
      "   [ 79 113 158]\n",
      "   [224  95  13]\n",
      "   [225 108 124]]]\n",
      "\n",
      "\n",
      " [[[ 41   2 231]\n",
      "   [195  63  14]\n",
      "   [106 204   0]\n",
      "   ...\n",
      "   [  5  91 235]\n",
      "   [165  88 111]\n",
      "   [225 207 193]]\n",
      "\n",
      "  [[172  53 169]\n",
      "   [  7  51  37]\n",
      "   [ 63 254  47]\n",
      "   ...\n",
      "   [155 255  51]\n",
      "   [201 151 101]\n",
      "   [158 208 180]]\n",
      "\n",
      "  [[214 157 250]\n",
      "   [108  41 246]\n",
      "   [235 223 230]\n",
      "   ...\n",
      "   [137 235 220]\n",
      "   [ 18  23  61]\n",
      "   [  6  27  76]]\n",
      "\n",
      "  ...\n",
      "\n",
      "  [[118 128 136]\n",
      "   [144  26 123]\n",
      "   [ 77  21  48]\n",
      "   ...\n",
      "   [ 29 220  56]\n",
      "   [134  74  95]\n",
      "   [  2 185  72]]\n",
      "\n",
      "  [[ 77 238 144]\n",
      "   [180 183 180]\n",
      "   [200 165 201]\n",
      "   ...\n",
      "   [ 73 179  67]\n",
      "   [128  81 140]\n",
      "   [221  17  86]]\n",
      "\n",
      "  [[113 223  89]\n",
      "   [219 230  45]\n",
      "   [165   7  47]\n",
      "   ...\n",
      "   [ 81 135 237]\n",
      "   [ 61  48 214]\n",
      "   [190  60 191]]]]\n"
     ]
    }
   ],
   "source": [
    "print(im)"
   ]
  }
 ],
 "metadata": {
  "kernelspec": {
   "display_name": "Python 3 (ipykernel)",
   "language": "python",
   "name": "python3"
  },
  "language_info": {
   "codemirror_mode": {
    "name": "ipython",
    "version": 3
   },
   "file_extension": ".py",
   "mimetype": "text/x-python",
   "name": "python",
   "nbconvert_exporter": "python",
   "pygments_lexer": "ipython3",
   "version": "3.9.12"
  }
 },
 "nbformat": 4,
 "nbformat_minor": 5
}
