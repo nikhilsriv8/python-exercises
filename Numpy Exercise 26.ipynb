{
 "cells": [
  {
   "cell_type": "markdown",
   "id": "488e888b",
   "metadata": {},
   "source": [
    "**The following array:**\n",
    "\n",
    "\n",
    "\n",
    "array([[0, 0, 0, 0, 0, 0],\n",
    "       [0, 0, 0, 0, 0, 0],\n",
    "       [0, 0, 0, 0, 0, 0],\n",
    "       [0, 0, 0, 0, 0, 0],\n",
    "       [0, 0, 0, 0, 0, 0],\n",
    "       [0, 0, 0, 0, 0, 0]])\n",
    "\n",
    "\n",
    "**transform to the following:**\n",
    "\n",
    "\n",
    "\n",
    "array([[10,  0, 10,  0, 10,  0],\n",
    "       [ 5,  0,  5,  0,  5,  0],\n",
    "       [10,  0, 10,  0, 10,  0],\n",
    "       [ 5,  0,  5,  0,  5,  0],\n",
    "       [10,  0, 10,  0, 10,  0],\n",
    "       [ 5,  0,  5,  0,  5,  0]])\n",
    "\n",
    "\n",
    "**In response, print transformed array to the console.**\n",
    "\n"
   ]
  },
  {
   "cell_type": "code",
   "execution_count": 1,
   "id": "a681c83d",
   "metadata": {},
   "outputs": [],
   "source": [
    "import numpy as np"
   ]
  },
  {
   "cell_type": "code",
   "execution_count": 6,
   "id": "95ac55bb",
   "metadata": {},
   "outputs": [],
   "source": [
    "A = np.zeros(shape=(6,6), dtype='int')"
   ]
  },
  {
   "cell_type": "code",
   "execution_count": 7,
   "id": "ee203256",
   "metadata": {},
   "outputs": [
    {
     "data": {
      "text/plain": [
       "array([[0, 0, 0, 0, 0, 0],\n",
       "       [0, 0, 0, 0, 0, 0],\n",
       "       [0, 0, 0, 0, 0, 0],\n",
       "       [0, 0, 0, 0, 0, 0],\n",
       "       [0, 0, 0, 0, 0, 0],\n",
       "       [0, 0, 0, 0, 0, 0]])"
      ]
     },
     "execution_count": 7,
     "metadata": {},
     "output_type": "execute_result"
    }
   ],
   "source": [
    "A"
   ]
  },
  {
   "cell_type": "code",
   "execution_count": 8,
   "id": "93dae3c0",
   "metadata": {},
   "outputs": [],
   "source": [
    "A[::2, ::2]=10"
   ]
  },
  {
   "cell_type": "code",
   "execution_count": 9,
   "id": "457f62d2",
   "metadata": {},
   "outputs": [],
   "source": [
    "A[1::2, ::2]=5"
   ]
  },
  {
   "cell_type": "code",
   "execution_count": 10,
   "id": "6febfb9f",
   "metadata": {},
   "outputs": [
    {
     "name": "stdout",
     "output_type": "stream",
     "text": [
      "[[10  0 10  0 10  0]\n",
      " [ 5  0  5  0  5  0]\n",
      " [10  0 10  0 10  0]\n",
      " [ 5  0  5  0  5  0]\n",
      " [10  0 10  0 10  0]\n",
      " [ 5  0  5  0  5  0]]\n"
     ]
    }
   ],
   "source": [
    "print(A)"
   ]
  }
 ],
 "metadata": {
  "kernelspec": {
   "display_name": "Python 3 (ipykernel)",
   "language": "python",
   "name": "python3"
  },
  "language_info": {
   "codemirror_mode": {
    "name": "ipython",
    "version": 3
   },
   "file_extension": ".py",
   "mimetype": "text/x-python",
   "name": "python",
   "nbconvert_exporter": "python",
   "pygments_lexer": "ipython3",
   "version": "3.9.12"
  }
 },
 "nbformat": 4,
 "nbformat_minor": 5
}
