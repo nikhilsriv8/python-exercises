{
 "cells": [
  {
   "cell_type": "markdown",
   "id": "47b4d4e1",
   "metadata": {},
   "source": [
    "**Using Numpy create the following array:**\n",
    "\n",
    "\n",
    "\n",
    "array([[ 0,  1,  2,  3],\n",
    "       [ 4,  5,  6,  7],\n",
    "       [ 8,  9, 10, 11]])\n",
    "\n",
    "\n",
    "**Save this array to a text file named 'array.txt' with two decimal places and then load this file back into another variable. Print this variable to the console.**\n",
    "\n"
   ]
  },
  {
   "cell_type": "code",
   "execution_count": 1,
   "id": "5ba757b8",
   "metadata": {},
   "outputs": [],
   "source": [
    "import numpy as np"
   ]
  },
  {
   "cell_type": "code",
   "execution_count": 21,
   "id": "91155fc8",
   "metadata": {},
   "outputs": [],
   "source": [
    "A = np.arange(12, dtype='int').reshape(-1,4)"
   ]
  },
  {
   "cell_type": "code",
   "execution_count": 22,
   "id": "e8a192df",
   "metadata": {},
   "outputs": [
    {
     "data": {
      "text/plain": [
       "array([[ 0,  1,  2,  3],\n",
       "       [ 4,  5,  6,  7],\n",
       "       [ 8,  9, 10, 11]])"
      ]
     },
     "execution_count": 22,
     "metadata": {},
     "output_type": "execute_result"
    }
   ],
   "source": [
    "A"
   ]
  },
  {
   "cell_type": "code",
   "execution_count": 23,
   "id": "3310c0a1",
   "metadata": {},
   "outputs": [],
   "source": [
    "np.savetxt('array.txt', A, fmt='%0.2f')"
   ]
  },
  {
   "cell_type": "code",
   "execution_count": 24,
   "id": "c100c625",
   "metadata": {},
   "outputs": [],
   "source": [
    "B = np.loadtxt('array.txt')"
   ]
  },
  {
   "cell_type": "code",
   "execution_count": 25,
   "id": "bb47bffa",
   "metadata": {},
   "outputs": [
    {
     "name": "stdout",
     "output_type": "stream",
     "text": [
      "[[ 0.  1.  2.  3.]\n",
      " [ 4.  5.  6.  7.]\n",
      " [ 8.  9. 10. 11.]]\n"
     ]
    }
   ],
   "source": [
    "print(B)"
   ]
  }
 ],
 "metadata": {
  "kernelspec": {
   "display_name": "Python 3 (ipykernel)",
   "language": "python",
   "name": "python3"
  },
  "language_info": {
   "codemirror_mode": {
    "name": "ipython",
    "version": 3
   },
   "file_extension": ".py",
   "mimetype": "text/x-python",
   "name": "python",
   "nbconvert_exporter": "python",
   "pygments_lexer": "ipython3",
   "version": "3.9.12"
  }
 },
 "nbformat": 4,
 "nbformat_minor": 5
}
