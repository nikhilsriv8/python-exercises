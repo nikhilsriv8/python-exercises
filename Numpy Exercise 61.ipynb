{
 "cells": [
  {
   "cell_type": "markdown",
   "id": "aedcee38",
   "metadata": {},
   "source": [
    "**The following arrays are given:**\n",
    "\n",
    "\n",
    "\n",
    "A = np.array([[3, 4, 9, 2], [5, 3, 2, 5]])\n",
    "B = np.array([[4, 3, 2, 5], [6, 3, 1, 6]])\n",
    "\n",
    "\n",
    "**Calculate arithmetic means of these arrays (elementwise) and print result to the console.**"
   ]
  },
  {
   "cell_type": "code",
   "execution_count": 1,
   "id": "8f05f010",
   "metadata": {},
   "outputs": [],
   "source": [
    "import numpy as np\n",
    "\n",
    "\n",
    "A = np.array([[3, 4, 9, 2], [5, 3, 2, 5]])\n",
    "B = np.array([[4, 3, 2, 5], [6, 3, 1, 6]])"
   ]
  },
  {
   "cell_type": "code",
   "execution_count": 5,
   "id": "cc37aaba",
   "metadata": {},
   "outputs": [
    {
     "data": {
      "text/plain": [
       "array([[3.5, 3.5, 5.5, 3.5],\n",
       "       [5.5, 3. , 1.5, 5.5]])"
      ]
     },
     "execution_count": 5,
     "metadata": {},
     "output_type": "execute_result"
    }
   ],
   "source": [
    "np.mean((A, B), axis=0)"
   ]
  },
  {
   "cell_type": "code",
   "execution_count": 6,
   "id": "badb4bc7",
   "metadata": {},
   "outputs": [
    {
     "name": "stdout",
     "output_type": "stream",
     "text": [
      "[[3.5 3.5 5.5 3.5]\n",
      " [5.5 3.  1.5 5.5]]\n"
     ]
    }
   ],
   "source": [
    "print(np.mean((A,B), axis=0))"
   ]
  }
 ],
 "metadata": {
  "kernelspec": {
   "display_name": "Python 3 (ipykernel)",
   "language": "python",
   "name": "python3"
  },
  "language_info": {
   "codemirror_mode": {
    "name": "ipython",
    "version": 3
   },
   "file_extension": ".py",
   "mimetype": "text/x-python",
   "name": "python",
   "nbconvert_exporter": "python",
   "pygments_lexer": "ipython3",
   "version": "3.9.12"
  }
 },
 "nbformat": 4,
 "nbformat_minor": 5
}
