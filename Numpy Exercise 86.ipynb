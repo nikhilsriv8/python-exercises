{
 "cells": [
  {
   "cell_type": "markdown",
   "id": "59454b64",
   "metadata": {},
   "source": [
    "**The following array is given:**\n",
    "\n",
    "\n",
    "\n",
    "A = np.array(\n",
    "    [\n",
    "        ['#summer#time#mood', '#vibe'],\n",
    "        ['#sport#time', '#good#time'],\n",
    "        ['#event#summer', '#fast#move'],\n",
    "    ]\n",
    ")\n",
    "\n",
    "\n",
    "**Count the number of occurrences of the word 'time' in each element of this array.**"
   ]
  },
  {
   "cell_type": "code",
   "execution_count": 1,
   "id": "61c6ed52",
   "metadata": {},
   "outputs": [],
   "source": [
    "import numpy as np\n",
    "\n",
    "\n",
    "A = np.array(\n",
    "    [\n",
    "        ['#summer#time#mood', '#vibe'],\n",
    "        ['#sport#time', '#good#time'],\n",
    "        ['#event#summer', '#fast#move'],\n",
    "    ]\n",
    ")"
   ]
  },
  {
   "cell_type": "code",
   "execution_count": 2,
   "id": "1da570ab",
   "metadata": {},
   "outputs": [
    {
     "data": {
      "text/plain": [
       "array([[1, 0],\n",
       "       [1, 1],\n",
       "       [0, 0]])"
      ]
     },
     "execution_count": 2,
     "metadata": {},
     "output_type": "execute_result"
    }
   ],
   "source": [
    "np.char.count(A, sub='time')"
   ]
  },
  {
   "cell_type": "code",
   "execution_count": 3,
   "id": "885a3486",
   "metadata": {},
   "outputs": [
    {
     "name": "stdout",
     "output_type": "stream",
     "text": [
      "[[1 0]\n",
      " [1 1]\n",
      " [0 0]]\n"
     ]
    }
   ],
   "source": [
    "print(np.char.count(A, sub='time'))"
   ]
  }
 ],
 "metadata": {
  "kernelspec": {
   "display_name": "Python 3 (ipykernel)",
   "language": "python",
   "name": "python3"
  },
  "language_info": {
   "codemirror_mode": {
    "name": "ipython",
    "version": 3
   },
   "file_extension": ".py",
   "mimetype": "text/x-python",
   "name": "python",
   "nbconvert_exporter": "python",
   "pygments_lexer": "ipython3",
   "version": "3.9.12"
  }
 },
 "nbformat": 4,
 "nbformat_minor": 5
}
