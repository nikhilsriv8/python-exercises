{
 "cells": [
  {
   "cell_type": "markdown",
   "id": "5bd9c76c",
   "metadata": {},
   "source": [
    "**Sort the array in Exercise 39 along the rows in ascending order and assign to the variable image_sorted.**"
   ]
  },
  {
   "cell_type": "code",
   "execution_count": 1,
   "id": "e42013f2",
   "metadata": {},
   "outputs": [],
   "source": [
    "import numpy as np"
   ]
  },
  {
   "cell_type": "code",
   "execution_count": 2,
   "id": "e2c97657",
   "metadata": {},
   "outputs": [],
   "source": [
    "image = np.random.randint(0, 255, size=(200,300), dtype=np.uint8)"
   ]
  },
  {
   "cell_type": "code",
   "execution_count": 3,
   "id": "b6184420",
   "metadata": {},
   "outputs": [
    {
     "data": {
      "text/plain": [
       "array([[193, 113, 254, ...,  48,   7, 198],\n",
       "       [147, 112,  74, ...,  12,  88, 128],\n",
       "       [233,  83, 171, ...,  74, 165, 105],\n",
       "       ...,\n",
       "       [197, 103, 231, ..., 231, 204,  68],\n",
       "       [184, 175, 124, ..., 227, 153, 253],\n",
       "       [ 56, 124,  83, ..., 221,  10,  42]], dtype=uint8)"
      ]
     },
     "execution_count": 3,
     "metadata": {},
     "output_type": "execute_result"
    }
   ],
   "source": [
    "image"
   ]
  },
  {
   "cell_type": "code",
   "execution_count": 4,
   "id": "d424dc54",
   "metadata": {},
   "outputs": [
    {
     "name": "stdout",
     "output_type": "stream",
     "text": [
      "[[193 113 254 ...  48   7 198]\n",
      " [147 112  74 ...  12  88 128]\n",
      " [233  83 171 ...  74 165 105]\n",
      " ...\n",
      " [197 103 231 ... 231 204  68]\n",
      " [184 175 124 ... 227 153 253]\n",
      " [ 56 124  83 ... 221  10  42]]\n"
     ]
    }
   ],
   "source": [
    "print(image)"
   ]
  },
  {
   "cell_type": "code",
   "execution_count": 5,
   "id": "8982b9d0",
   "metadata": {},
   "outputs": [
    {
     "data": {
      "text/plain": [
       "array([[  0,   1,   3, ..., 254, 254, 254],\n",
       "       [  0,   1,   1, ..., 253, 254, 254],\n",
       "       [  1,   1,   1, ..., 252, 252, 254],\n",
       "       ...,\n",
       "       [  0,   0,   1, ..., 254, 254, 254],\n",
       "       [  0,   0,   3, ..., 252, 253, 253],\n",
       "       [  0,   0,   0, ..., 252, 253, 254]], dtype=uint8)"
      ]
     },
     "execution_count": 5,
     "metadata": {},
     "output_type": "execute_result"
    }
   ],
   "source": [
    "np.sort(image)"
   ]
  },
  {
   "cell_type": "code",
   "execution_count": 6,
   "id": "4f2b412a",
   "metadata": {},
   "outputs": [],
   "source": [
    "image_sorted = np.sort(image)"
   ]
  }
 ],
 "metadata": {
  "kernelspec": {
   "display_name": "Python 3 (ipykernel)",
   "language": "python",
   "name": "python3"
  },
  "language_info": {
   "codemirror_mode": {
    "name": "ipython",
    "version": 3
   },
   "file_extension": ".py",
   "mimetype": "text/x-python",
   "name": "python",
   "nbconvert_exporter": "python",
   "pygments_lexer": "ipython3",
   "version": "3.9.12"
  }
 },
 "nbformat": 4,
 "nbformat_minor": 5
}
