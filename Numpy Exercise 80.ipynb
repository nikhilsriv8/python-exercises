{
 "cells": [
  {
   "cell_type": "markdown",
   "id": "28b7a247",
   "metadata": {},
   "source": [
    "**Using the np.datetime64() function, generate today's date and print result to the console.**"
   ]
  },
  {
   "cell_type": "code",
   "execution_count": 1,
   "id": "17724c65",
   "metadata": {},
   "outputs": [],
   "source": [
    "import numpy as np"
   ]
  },
  {
   "cell_type": "code",
   "execution_count": 2,
   "id": "31ea5405",
   "metadata": {},
   "outputs": [
    {
     "data": {
      "text/plain": [
       "numpy.datetime64('2022-11-01')"
      ]
     },
     "execution_count": 2,
     "metadata": {},
     "output_type": "execute_result"
    }
   ],
   "source": [
    "np.datetime64('today', 'D')"
   ]
  },
  {
   "cell_type": "code",
   "execution_count": 3,
   "id": "972b1925",
   "metadata": {},
   "outputs": [
    {
     "name": "stdout",
     "output_type": "stream",
     "text": [
      "2022-11-01\n"
     ]
    }
   ],
   "source": [
    "print(np.datetime64('today', 'D'))"
   ]
  }
 ],
 "metadata": {
  "kernelspec": {
   "display_name": "Python 3 (ipykernel)",
   "language": "python",
   "name": "python3"
  },
  "language_info": {
   "codemirror_mode": {
    "name": "ipython",
    "version": 3
   },
   "file_extension": ".py",
   "mimetype": "text/x-python",
   "name": "python",
   "nbconvert_exporter": "python",
   "pygments_lexer": "ipython3",
   "version": "3.9.12"
  }
 },
 "nbformat": 4,
 "nbformat_minor": 5
}
