{
 "cells": [
  {
   "cell_type": "code",
   "execution_count": 1,
   "id": "174fc0b0",
   "metadata": {},
   "outputs": [],
   "source": [
    "import numpy as np"
   ]
  },
  {
   "cell_type": "code",
   "execution_count": 6,
   "id": "e9fae2de",
   "metadata": {},
   "outputs": [
    {
     "data": {
      "text/plain": [
       "array([0.96166587, 0.9842837 , 0.4492796 , 0.59054802, 0.84200442,\n",
       "       0.63723802, 0.45712017, 0.41380376, 0.95791738, 0.40469023,\n",
       "       0.7863432 , 0.60503093, 0.35969369, 0.92044046, 0.95854865,\n",
       "       0.44188006, 0.44337754, 0.15738227, 0.8029046 , 0.47588959,\n",
       "       0.05747139, 0.5423522 , 0.75434496, 0.35762092, 0.15521728,\n",
       "       0.82216198, 0.23135106, 0.98549431, 0.35413693, 0.72541914])"
      ]
     },
     "execution_count": 6,
     "metadata": {},
     "output_type": "execute_result"
    }
   ],
   "source": [
    "np.random.rand(30)"
   ]
  },
  {
   "cell_type": "code",
   "execution_count": 7,
   "id": "b6d0b157",
   "metadata": {},
   "outputs": [],
   "source": [
    "np.random.seed(10)"
   ]
  },
  {
   "cell_type": "code",
   "execution_count": 8,
   "id": "199f9619",
   "metadata": {},
   "outputs": [
    {
     "name": "stdout",
     "output_type": "stream",
     "text": [
      "[0.77132064 0.02075195 0.63364823 0.74880388 0.49850701 0.22479665\n",
      " 0.19806286 0.76053071 0.16911084 0.08833981 0.68535982 0.95339335\n",
      " 0.00394827 0.51219226 0.81262096 0.61252607 0.72175532 0.29187607\n",
      " 0.91777412 0.71457578 0.54254437 0.14217005 0.37334076 0.67413362\n",
      " 0.44183317 0.43401399 0.61776698 0.51313824 0.65039718 0.60103895]\n"
     ]
    }
   ],
   "source": [
    "print(np.random.rand(30))"
   ]
  }
 ],
 "metadata": {
  "kernelspec": {
   "display_name": "Python 3 (ipykernel)",
   "language": "python",
   "name": "python3"
  },
  "language_info": {
   "codemirror_mode": {
    "name": "ipython",
    "version": 3
   },
   "file_extension": ".py",
   "mimetype": "text/x-python",
   "name": "python",
   "nbconvert_exporter": "python",
   "pygments_lexer": "ipython3",
   "version": "3.9.12"
  }
 },
 "nbformat": 4,
 "nbformat_minor": 5
}
