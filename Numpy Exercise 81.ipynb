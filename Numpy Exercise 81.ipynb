{
 "cells": [
  {
   "cell_type": "markdown",
   "id": "390f90af",
   "metadata": {},
   "source": [
    "**Using Numpy generate all dates for Mondays from January and February 2020 as an array and print result to the console.**"
   ]
  },
  {
   "cell_type": "code",
   "execution_count": 1,
   "id": "980ecbd6",
   "metadata": {},
   "outputs": [],
   "source": [
    "import numpy as np"
   ]
  },
  {
   "cell_type": "code",
   "execution_count": 2,
   "id": "532b0d22",
   "metadata": {},
   "outputs": [
    {
     "data": {
      "text/plain": [
       "array(['2020-01-06', '2020-01-13', '2020-01-20', '2020-01-27',\n",
       "       '2020-02-03', '2020-02-10', '2020-02-17', '2020-02-24'],\n",
       "      dtype='datetime64[D]')"
      ]
     },
     "execution_count": 2,
     "metadata": {},
     "output_type": "execute_result"
    }
   ],
   "source": [
    "np.arange('2020-01-06', '2020-03', dtype='datetime64[D]')[::7]"
   ]
  },
  {
   "cell_type": "code",
   "execution_count": 3,
   "id": "c5c14b59",
   "metadata": {},
   "outputs": [
    {
     "name": "stdout",
     "output_type": "stream",
     "text": [
      "['2020-01-06' '2020-01-13' '2020-01-20' '2020-01-27' '2020-02-03'\n",
      " '2020-02-10' '2020-02-17' '2020-02-24']\n"
     ]
    }
   ],
   "source": [
    "print(np.arange('2020-01-06', '2020-03', dtype='datetime64[D]')[::7])"
   ]
  }
 ],
 "metadata": {
  "kernelspec": {
   "display_name": "Python 3 (ipykernel)",
   "language": "python",
   "name": "python3"
  },
  "language_info": {
   "codemirror_mode": {
    "name": "ipython",
    "version": 3
   },
   "file_extension": ".py",
   "mimetype": "text/x-python",
   "name": "python",
   "nbconvert_exporter": "python",
   "pygments_lexer": "ipython3",
   "version": "3.9.12"
  }
 },
 "nbformat": 4,
 "nbformat_minor": 5
}
