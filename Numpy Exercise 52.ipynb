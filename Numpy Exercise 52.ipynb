{
 "cells": [
  {
   "cell_type": "markdown",
   "id": "3a3face6",
   "metadata": {},
   "source": [
    "**The following arrays are given:**\n",
    "\n",
    "\n",
    "\n",
    "data = np.array([[4.3, 4.2], [3.1, 3.6]])\n",
    "target = np.array([[0], [1]])\n",
    "\n",
    "\n",
    "**Concatenate these arrays into one as shown below:**\n",
    "\n",
    "\n",
    "\n",
    "array([[4.3, 4.2, 0. ],\n",
    "       [3.1, 3.6, 1. ]])\n",
    "\n",
    "\n",
    "**In response, print this array to the console.**"
   ]
  },
  {
   "cell_type": "code",
   "execution_count": 1,
   "id": "782dfbb0",
   "metadata": {},
   "outputs": [],
   "source": [
    "import numpy as np\n",
    "\n",
    "\n",
    "data = np.array([[4.3, 4.2], [3.1, 3.6]])\n",
    "target = np.array([[0], [1]])\n"
   ]
  },
  {
   "cell_type": "code",
   "execution_count": 6,
   "id": "0f742d92",
   "metadata": {},
   "outputs": [
    {
     "name": "stdout",
     "output_type": "stream",
     "text": [
      "[[4.3 4.2 0. ]\n",
      " [3.1 3.6 1. ]]\n"
     ]
    }
   ],
   "source": [
    "print(np.concatenate((data, target), axis=1, dtype='float'))"
   ]
  }
 ],
 "metadata": {
  "kernelspec": {
   "display_name": "Python 3 (ipykernel)",
   "language": "python",
   "name": "python3"
  },
  "language_info": {
   "codemirror_mode": {
    "name": "ipython",
    "version": 3
   },
   "file_extension": ".py",
   "mimetype": "text/x-python",
   "name": "python",
   "nbconvert_exporter": "python",
   "pygments_lexer": "ipython3",
   "version": "3.9.12"
  }
 },
 "nbformat": 4,
 "nbformat_minor": 5
}
