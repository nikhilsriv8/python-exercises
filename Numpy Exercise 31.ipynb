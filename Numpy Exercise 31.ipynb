{
 "cells": [
  {
   "cell_type": "markdown",
   "id": "075d284a",
   "metadata": {},
   "source": [
    "**The following array is given:**\n",
    "\n",
    "\n",
    "\n",
    "A = np.array(\n",
    "    [[4.99, 3.49, 9.99], [1.99, 9.99, 4.99], [14.99, 2.39, 7.29]]\n",
    ")\n",
    "\n",
    "\n",
    "**Sort this array:**\n",
    "\n",
    "    -by row (ascending)\n",
    "\n",
    "    -by column (ascending)\n",
    "\n",
    "**And print result to the console.**\n",
    "\n"
   ]
  },
  {
   "cell_type": "code",
   "execution_count": 1,
   "id": "7816f297",
   "metadata": {},
   "outputs": [],
   "source": [
    "import numpy as np"
   ]
  },
  {
   "cell_type": "code",
   "execution_count": 2,
   "id": "872dff6b",
   "metadata": {},
   "outputs": [],
   "source": [
    "A = np.array([[4.99, 3.49, 9.99],\n",
    "              [1.99, 9.99, 4.99],\n",
    "              [14.99, 2.39, 7.29]])"
   ]
  },
  {
   "cell_type": "code",
   "execution_count": 3,
   "id": "0a0a9f4a",
   "metadata": {},
   "outputs": [
    {
     "data": {
      "text/plain": [
       "array([[ 3.49,  4.99,  9.99],\n",
       "       [ 1.99,  4.99,  9.99],\n",
       "       [ 2.39,  7.29, 14.99]])"
      ]
     },
     "execution_count": 3,
     "metadata": {},
     "output_type": "execute_result"
    }
   ],
   "source": [
    "np.sort(A)"
   ]
  },
  {
   "cell_type": "code",
   "execution_count": 4,
   "id": "3e7a472b",
   "metadata": {},
   "outputs": [
    {
     "data": {
      "text/plain": [
       "array([[ 9.99,  4.99,  3.49],\n",
       "       [ 9.99,  4.99,  1.99],\n",
       "       [14.99,  7.29,  2.39]])"
      ]
     },
     "execution_count": 4,
     "metadata": {},
     "output_type": "execute_result"
    }
   ],
   "source": [
    "-np.sort(-A)"
   ]
  },
  {
   "cell_type": "code",
   "execution_count": 8,
   "id": "d23eb40f",
   "metadata": {},
   "outputs": [
    {
     "data": {
      "text/plain": [
       "array([[[14.99,  2.39,  7.29],\n",
       "        [ 4.99,  3.49,  9.99],\n",
       "        [ 1.99,  9.99,  4.99]],\n",
       "\n",
       "       [[ 4.99,  3.49,  9.99],\n",
       "        [ 1.99,  9.99,  4.99],\n",
       "        [14.99,  2.39,  7.29]],\n",
       "\n",
       "       [[14.99,  2.39,  7.29],\n",
       "        [ 1.99,  9.99,  4.99],\n",
       "        [ 4.99,  3.49,  9.99]]])"
      ]
     },
     "execution_count": 8,
     "metadata": {},
     "output_type": "execute_result"
    }
   ],
   "source": [
    "A[-A[:,].argsort()]"
   ]
  },
  {
   "cell_type": "code",
   "execution_count": 11,
   "id": "67acb971",
   "metadata": {},
   "outputs": [
    {
     "name": "stdout",
     "output_type": "stream",
     "text": [
      "[[ 3.49  4.99  9.99]\n",
      " [ 1.99  4.99  9.99]\n",
      " [ 2.39  7.29 14.99]]\n"
     ]
    }
   ],
   "source": [
    "print(np.sort(A))"
   ]
  },
  {
   "cell_type": "code",
   "execution_count": 12,
   "id": "95f32d32",
   "metadata": {},
   "outputs": [
    {
     "name": "stdout",
     "output_type": "stream",
     "text": [
      "[[ 1.99  2.39  4.99]\n",
      " [ 4.99  3.49  7.29]\n",
      " [14.99  9.99  9.99]]\n"
     ]
    }
   ],
   "source": [
    "print(np.sort(A, axis=0))"
   ]
  }
 ],
 "metadata": {
  "kernelspec": {
   "display_name": "Python 3 (ipykernel)",
   "language": "python",
   "name": "python3"
  },
  "language_info": {
   "codemirror_mode": {
    "name": "ipython",
    "version": 3
   },
   "file_extension": ".py",
   "mimetype": "text/x-python",
   "name": "python",
   "nbconvert_exporter": "python",
   "pygments_lexer": "ipython3",
   "version": "3.9.12"
  }
 },
 "nbformat": 4,
 "nbformat_minor": 5
}
