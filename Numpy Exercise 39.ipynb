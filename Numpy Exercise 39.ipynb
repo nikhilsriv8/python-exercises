{
 "cells": [
  {
   "cell_type": "markdown",
   "id": "5bd9c76c",
   "metadata": {},
   "source": [
    "**Using Numpy create a two-dimensional array with shape of (200, 300) filled with random values from 0 to 255 (inclusive) with data type np.uint8 and assign to the variable image.**"
   ]
  },
  {
   "cell_type": "code",
   "execution_count": 1,
   "id": "e42013f2",
   "metadata": {},
   "outputs": [],
   "source": [
    "import numpy as np"
   ]
  },
  {
   "cell_type": "code",
   "execution_count": 5,
   "id": "e2c97657",
   "metadata": {},
   "outputs": [],
   "source": [
    "image = np.random.randint(0, 255, size=(200,300), dtype=np.uint8)"
   ]
  },
  {
   "cell_type": "code",
   "execution_count": 6,
   "id": "b6184420",
   "metadata": {},
   "outputs": [
    {
     "data": {
      "text/plain": [
       "array([[123,  70, 146, ..., 202, 168,   7],\n",
       "       [171, 142, 196, ..., 134,  27, 200],\n",
       "       [119, 221,  75, ..., 167,  36,   8],\n",
       "       ...,\n",
       "       [148, 160, 147, ...,  50, 101, 103],\n",
       "       [ 92, 124, 123, ...,  40, 170, 106],\n",
       "       [114, 139, 164, ..., 116, 237,  21]], dtype=uint8)"
      ]
     },
     "execution_count": 6,
     "metadata": {},
     "output_type": "execute_result"
    }
   ],
   "source": [
    "image"
   ]
  },
  {
   "cell_type": "code",
   "execution_count": 7,
   "id": "d424dc54",
   "metadata": {},
   "outputs": [
    {
     "name": "stdout",
     "output_type": "stream",
     "text": [
      "[[123  70 146 ... 202 168   7]\n",
      " [171 142 196 ... 134  27 200]\n",
      " [119 221  75 ... 167  36   8]\n",
      " ...\n",
      " [148 160 147 ...  50 101 103]\n",
      " [ 92 124 123 ...  40 170 106]\n",
      " [114 139 164 ... 116 237  21]]\n"
     ]
    }
   ],
   "source": [
    "print(image)"
   ]
  }
 ],
 "metadata": {
  "kernelspec": {
   "display_name": "Python 3 (ipykernel)",
   "language": "python",
   "name": "python3"
  },
  "language_info": {
   "codemirror_mode": {
    "name": "ipython",
    "version": 3
   },
   "file_extension": ".py",
   "mimetype": "text/x-python",
   "name": "python",
   "nbconvert_exporter": "python",
   "pygments_lexer": "ipython3",
   "version": "3.9.12"
  }
 },
 "nbformat": 4,
 "nbformat_minor": 5
}
